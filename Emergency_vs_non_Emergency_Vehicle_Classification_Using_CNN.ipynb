{
  "nbformat": 4,
  "nbformat_minor": 0,
  "metadata": {
    "colab": {
      "name": "Emergency vs non Emergency Vehicle Classification Using CNN.ipynb",
      "provenance": [],
      "authorship_tag": "ABX9TyMCSCbrfE0rcUuO0m/q8Tt0",
      "include_colab_link": true
    },
    "kernelspec": {
      "name": "python3",
      "display_name": "Python 3"
    },
    "accelerator": "GPU"
  },
  "cells": [
    {
      "cell_type": "markdown",
      "metadata": {
        "id": "view-in-github",
        "colab_type": "text"
      },
      "source": [
        "<a href=\"https://colab.research.google.com/github/Deepak-Data-Scientist-IIT/Emergency-vs-Non-Emergency-Vehicle-Classification/blob/master/Emergency_vs_non_Emergency_Vehicle_Classification_Using_CNN.ipynb\" target=\"_parent\"><img src=\"https://colab.research.google.com/assets/colab-badge.svg\" alt=\"Open In Colab\"/></a>"
      ]
    },
    {
      "cell_type": "markdown",
      "metadata": {
        "id": "T7R1BjdBiTvH",
        "colab_type": "text"
      },
      "source": [
        "# **Loading DataSet**"
      ]
    },
    {
      "cell_type": "code",
      "metadata": {
        "id": "r7wPXmfmiXz8",
        "colab_type": "code",
        "colab": {}
      },
      "source": [
        "# import necessary libraries and functions\n",
        "import numpy as np\n",
        "import pandas as pd\n",
        "import matplotlib.pyplot as plt\n",
        "%matplotlib inline\n",
        "\n",
        "# importing layers from keras\n",
        "from keras.layers import Dense, InputLayer\n",
        "from keras.models import Sequential\n",
        "# importing adam optimizer from keras optimizer module \n",
        "from keras.optimizers import Adam\n",
        "\n",
        "# train_test_split to create training and validation set\n",
        "from sklearn.model_selection import train_test_split\n",
        "# accuracy_score to calculate the accuracy of predictions\n",
        "from sklearn.metrics import accuracy_score"
      ],
      "execution_count": 1,
      "outputs": []
    },
    {
      "cell_type": "code",
      "metadata": {
        "id": "40D1xj44idks",
        "colab_type": "code",
        "colab": {
          "base_uri": "https://localhost:8080/",
          "height": 126
        },
        "outputId": "4a1081ab-b640-46b4-c8d4-dd17de95dfd5"
      },
      "source": [
        "from google.colab import drive\n",
        "drive.mount('/content/drive')"
      ],
      "execution_count": 2,
      "outputs": [
        {
          "output_type": "stream",
          "text": [
            "Go to this URL in a browser: https://accounts.google.com/o/oauth2/auth?client_id=947318989803-6bn6qk8qdgf4n4g3pfee6491hc0brc4i.apps.googleusercontent.com&redirect_uri=urn%3aietf%3awg%3aoauth%3a2.0%3aoob&scope=email%20https%3a%2f%2fwww.googleapis.com%2fauth%2fdocs.test%20https%3a%2f%2fwww.googleapis.com%2fauth%2fdrive%20https%3a%2f%2fwww.googleapis.com%2fauth%2fdrive.photos.readonly%20https%3a%2f%2fwww.googleapis.com%2fauth%2fpeopleapi.readonly&response_type=code\n",
            "\n",
            "Enter your authorization code:\n",
            "··········\n",
            "Mounted at /content/drive\n"
          ],
          "name": "stdout"
        }
      ]
    },
    {
      "cell_type": "code",
      "metadata": {
        "id": "z9UEk0Sri_M1",
        "colab_type": "code",
        "colab": {}
      },
      "source": [
        "!unzip -uq \"drive/My Drive/Dataset.zip\""
      ],
      "execution_count": 3,
      "outputs": []
    },
    {
      "cell_type": "code",
      "metadata": {
        "id": "6yz0Lg-8jC1i",
        "colab_type": "code",
        "colab": {}
      },
      "source": [
        "# Reading the CSV File\n",
        "data = pd.read_csv('Dataset/emergency_classification.csv')"
      ],
      "execution_count": 4,
      "outputs": []
    },
    {
      "cell_type": "code",
      "metadata": {
        "id": "d6-ggkXYjEhF",
        "colab_type": "code",
        "colab": {}
      },
      "source": [
        "# Create random number generator\n",
        "seed = 42\n",
        "\n",
        "rng = np.random.RandomState(seed)"
      ],
      "execution_count": 5,
      "outputs": []
    },
    {
      "cell_type": "code",
      "metadata": {
        "id": "FqjAd9yojLPO",
        "colab_type": "code",
        "colab": {
          "base_uri": "https://localhost:8080/",
          "height": 200
        },
        "outputId": "bf4c15a1-4aae-49fe-d279-b059bce239d2"
      },
      "source": [
        "# Looking the first five rows of the data\n",
        "data.head()"
      ],
      "execution_count": 6,
      "outputs": [
        {
          "output_type": "execute_result",
          "data": {
            "text/html": [
              "<div>\n",
              "<style scoped>\n",
              "    .dataframe tbody tr th:only-of-type {\n",
              "        vertical-align: middle;\n",
              "    }\n",
              "\n",
              "    .dataframe tbody tr th {\n",
              "        vertical-align: top;\n",
              "    }\n",
              "\n",
              "    .dataframe thead th {\n",
              "        text-align: right;\n",
              "    }\n",
              "</style>\n",
              "<table border=\"1\" class=\"dataframe\">\n",
              "  <thead>\n",
              "    <tr style=\"text-align: right;\">\n",
              "      <th></th>\n",
              "      <th>image_names</th>\n",
              "      <th>emergency_or_not</th>\n",
              "    </tr>\n",
              "  </thead>\n",
              "  <tbody>\n",
              "    <tr>\n",
              "      <th>0</th>\n",
              "      <td>0.jpg</td>\n",
              "      <td>1</td>\n",
              "    </tr>\n",
              "    <tr>\n",
              "      <th>1</th>\n",
              "      <td>1.jpg</td>\n",
              "      <td>1</td>\n",
              "    </tr>\n",
              "    <tr>\n",
              "      <th>2</th>\n",
              "      <td>2.jpg</td>\n",
              "      <td>1</td>\n",
              "    </tr>\n",
              "    <tr>\n",
              "      <th>3</th>\n",
              "      <td>3.jpg</td>\n",
              "      <td>1</td>\n",
              "    </tr>\n",
              "    <tr>\n",
              "      <th>4</th>\n",
              "      <td>4.jpg</td>\n",
              "      <td>1</td>\n",
              "    </tr>\n",
              "  </tbody>\n",
              "</table>\n",
              "</div>"
            ],
            "text/plain": [
              "  image_names  emergency_or_not\n",
              "0       0.jpg                 1\n",
              "1       1.jpg                 1\n",
              "2       2.jpg                 1\n",
              "3       3.jpg                 1\n",
              "4       4.jpg                 1"
            ]
          },
          "metadata": {
            "tags": []
          },
          "execution_count": 6
        }
      ]
    },
    {
      "cell_type": "code",
      "metadata": {
        "id": "CxNY26OLjReq",
        "colab_type": "code",
        "colab": {
          "base_uri": "https://localhost:8080/",
          "height": 70
        },
        "outputId": "21058ee4-006a-4844-f844-5791ac7aab41"
      },
      "source": [
        "# Distribution of classes in the dataset\n",
        "data['emergency_or_not'].value_counts()"
      ],
      "execution_count": 7,
      "outputs": [
        {
          "output_type": "execute_result",
          "data": {
            "text/plain": [
              "0    1361\n",
              "1     991\n",
              "Name: emergency_or_not, dtype: int64"
            ]
          },
          "metadata": {
            "tags": []
          },
          "execution_count": 7
        }
      ]
    },
    {
      "cell_type": "code",
      "metadata": {
        "id": "LwKPET9QjaXF",
        "colab_type": "code",
        "colab": {}
      },
      "source": [
        "# Load images and store it in numpy array\n",
        "\n",
        "# empty list to store the images\n",
        "X = []\n",
        "# iterating over each image\n",
        "for img_name in data.image_names:\n",
        "  # loading the image using its name\n",
        "  img = plt.imread('Dataset/images/' + img_name)\n",
        "  # saving each image in the list\n",
        "  X.append(img)\n",
        "\n",
        "# Converting the list of images into array\n",
        "X = np.array(X)\n",
        "\n",
        "# Storing the target variable in saperate variable\n",
        "y = data.emergency_or_not.values"
      ],
      "execution_count": 8,
      "outputs": []
    },
    {
      "cell_type": "code",
      "metadata": {
        "id": "H6Y0bHDWjnnE",
        "colab_type": "code",
        "colab": {
          "base_uri": "https://localhost:8080/",
          "height": 35
        },
        "outputId": "13dc2a7a-6559-4a44-a294-137a58759dbf"
      },
      "source": [
        "# shape of the image\n",
        "X.shape, y.shape"
      ],
      "execution_count": 9,
      "outputs": [
        {
          "output_type": "execute_result",
          "data": {
            "text/plain": [
              "((2352, 224, 224, 3), (2352,))"
            ]
          },
          "metadata": {
            "tags": []
          },
          "execution_count": 9
        }
      ]
    },
    {
      "cell_type": "markdown",
      "metadata": {
        "id": "M3q4i5hsj2f3",
        "colab_type": "text"
      },
      "source": [
        "# **Pre-Processing the data**"
      ]
    },
    {
      "cell_type": "code",
      "metadata": {
        "id": "Xm8G6NILjz6C",
        "colab_type": "code",
        "colab": {}
      },
      "source": [
        "# Since we are using CNN  We do not have to resize the image into 1D array"
      ],
      "execution_count": 10,
      "outputs": []
    },
    {
      "cell_type": "code",
      "metadata": {
        "id": "sP8GIZfvkIGa",
        "colab_type": "code",
        "colab": {}
      },
      "source": [
        "# Normalize the pixel values\n",
        "X = X / X.max()"
      ],
      "execution_count": 11,
      "outputs": []
    },
    {
      "cell_type": "code",
      "metadata": {
        "id": "epub4qG6kX7W",
        "colab_type": "code",
        "colab": {
          "base_uri": "https://localhost:8080/",
          "height": 35
        },
        "outputId": "677150b3-57b2-4d69-846e-f9a4ef4a84fa"
      },
      "source": [
        "# minimum and maximum pixel value of images after normalize\n",
        "X.min(), X.max()"
      ],
      "execution_count": 12,
      "outputs": [
        {
          "output_type": "execute_result",
          "data": {
            "text/plain": [
              "(0.0, 1.0)"
            ]
          },
          "metadata": {
            "tags": []
          },
          "execution_count": 12
        }
      ]
    },
    {
      "cell_type": "markdown",
      "metadata": {
        "id": "qURPajlPkhm3",
        "colab_type": "text"
      },
      "source": [
        "# **Creating tarining and validation set**"
      ]
    },
    {
      "cell_type": "code",
      "metadata": {
        "id": "aqJhVt2LkkRP",
        "colab_type": "code",
        "colab": {}
      },
      "source": [
        "# Creating training and validation set\n",
        "X_train, X_valid, y_train, y_valid = train_test_split(X,y, test_size = 0.3, random_state= seed)"
      ],
      "execution_count": 13,
      "outputs": []
    },
    {
      "cell_type": "code",
      "metadata": {
        "id": "RscxGDtFkqda",
        "colab_type": "code",
        "colab": {
          "base_uri": "https://localhost:8080/",
          "height": 35
        },
        "outputId": "cdd1d8cf-50dd-4e38-8e5e-410d350417f0"
      },
      "source": [
        "# Shape of training and validation set\n",
        "(X_train.shape, y_train.shape), (X_valid.shape, y_valid.shape)"
      ],
      "execution_count": 15,
      "outputs": [
        {
          "output_type": "execute_result",
          "data": {
            "text/plain": [
              "(((1646, 224, 224, 3), (1646,)), ((706, 224, 224, 3), (706,)))"
            ]
          },
          "metadata": {
            "tags": []
          },
          "execution_count": 15
        }
      ]
    },
    {
      "cell_type": "markdown",
      "metadata": {
        "id": "Ulq952o_k8qX",
        "colab_type": "text"
      },
      "source": [
        "# **Defining the model architecture**"
      ]
    },
    {
      "cell_type": "code",
      "metadata": {
        "id": "UwOQXSCLlBUa",
        "colab_type": "code",
        "colab": {}
      },
      "source": [
        "# Importing Convotional Layer and flatten layer from keras\n",
        "from keras.layers import Conv2D, Flatten"
      ],
      "execution_count": 16,
      "outputs": []
    },
    {
      "cell_type": "code",
      "metadata": {
        "id": "_5LKYyCKlspX",
        "colab_type": "code",
        "colab": {}
      },
      "source": [
        "# Defining the model Architecture\n",
        "\n",
        "# Creating a Sequential model\n",
        "model = Sequential()\n",
        "\n",
        "# Defining input layer with 3D input of shape(224,224,3)\n",
        "model.add(InputLayer(input_shape=(224,224,3)))\n",
        "\n",
        "# Defining the First Convolutional layer with 25 filters of size (5,5)\n",
        "model.add(Conv2D(25,(5,5), activation='relu', strides=(1,1), padding='valid'))\n",
        "\n",
        "# Defining the First Convolutional layer with 50 filters of size (5,5)\n",
        "model.add(Conv2D(50,(5,5), activation='relu', strides=(1,1), padding='valid'))\n",
        "\n",
        "# Flattining the output from convolutional layer So that it can be forwarded to the dense layers\n",
        "model.add(Flatten())\n",
        "\n",
        "# Defining the first dense layer and fully connected layer with 100 neurons\n",
        "model.add(Dense(units=100, activation='sigmoid'))\n",
        "\n",
        "# Defining the output layer with 1 neuron since it is a binary classification problem\n",
        "model.add(Dense(units=1, activation='sigmoid'))"
      ],
      "execution_count": 17,
      "outputs": []
    },
    {
      "cell_type": "code",
      "metadata": {
        "id": "etUPzQzpq5hA",
        "colab_type": "code",
        "colab": {
          "base_uri": "https://localhost:8080/",
          "height": 337
        },
        "outputId": "55b4a248-46ae-47d7-a69d-cda3a2f35616"
      },
      "source": [
        "# printing summary of the model\n",
        "model.summary()"
      ],
      "execution_count": 18,
      "outputs": [
        {
          "output_type": "stream",
          "text": [
            "Model: \"sequential\"\n",
            "_________________________________________________________________\n",
            "Layer (type)                 Output Shape              Param #   \n",
            "=================================================================\n",
            "conv2d (Conv2D)              (None, 220, 220, 25)      1900      \n",
            "_________________________________________________________________\n",
            "conv2d_1 (Conv2D)            (None, 216, 216, 50)      31300     \n",
            "_________________________________________________________________\n",
            "flatten (Flatten)            (None, 2332800)           0         \n",
            "_________________________________________________________________\n",
            "dense (Dense)                (None, 100)               233280100 \n",
            "_________________________________________________________________\n",
            "dense_1 (Dense)              (None, 1)                 101       \n",
            "=================================================================\n",
            "Total params: 233,313,401\n",
            "Trainable params: 233,313,401\n",
            "Non-trainable params: 0\n",
            "_________________________________________________________________\n"
          ],
          "name": "stdout"
        }
      ]
    },
    {
      "cell_type": "markdown",
      "metadata": {
        "id": "dB3PmwCkrHfZ",
        "colab_type": "text"
      },
      "source": [
        "# **1.5  Understanding the Architecture**"
      ]
    },
    {
      "cell_type": "markdown",
      "metadata": {
        "id": "JtKQAJx6rMp2",
        "colab_type": "text"
      },
      "source": [
        "* Input shape is (224,224,3) since images are of this shape\n",
        "* We then applied 25 filters each of shape (5,5) and stride is (1,1)\n",
        "* So the output from first convolutional layer is: (224-5+1,224-5+1,25) which is (220,220,25)\n",
        "* We then applied 50 filters of shape (5,5) each with stride (1,1)\n",
        "* Then the output is (220-5+1,220-5+1,50) which is (216,216,50)\n",
        "* Then this output is flattened which resulted in 216 X 216 X 50 = 2332800 features\n",
        "* Finally these features are passed through the fully connected layers."
      ]
    },
    {
      "cell_type": "markdown",
      "metadata": {
        "id": "PQe45jvZrpzR",
        "colab_type": "text"
      },
      "source": [
        "# 1.6  **Understanding the number of parameters of different layers**"
      ]
    },
    {
      "cell_type": "markdown",
      "metadata": {
        "id": "U4_CYN8Ersct",
        "colab_type": "text"
      },
      "source": [
        "1 First Convolutional Layer\n",
        "* Number of input channels = 3\n",
        "* Number of filters = 25\n",
        "* Filter Size = (5,5)\n",
        "* Learnable parameters = 25 * 5 * 5 * 3 + 25 (1 bias for each filter) = 1900\n",
        "\n",
        "2 Second Convolutional Layer\n",
        "* Number of input channels = 25\n",
        "* Number of filters = 50\n",
        "* Filter Size = (5,5)\n",
        "* Learnable parameters = 50 * 5 * 5 * 25 + 50 (1 bias for each filter) = 31300\n",
        "\n",
        "3 First Fully Connected Layer\n",
        "* Number of input features = 216 * 216 * 50 = 2332800\n",
        "* Number of neurons in this hidden layer = 100\n",
        "* Learnable parameters = 2332800 * 100 + 100 (1 bias for each neuron) = 233280100\n",
        "\n",
        "4 Output Layer\n",
        "* Number of input features = 100\n",
        "* Number of neurons in this layer = 1\n",
        "* Learnable parameters = 100 * 1 + 1 (1 bias for each neuron) = 101"
      ]
    },
    {
      "cell_type": "markdown",
      "metadata": {
        "id": "iFaZkrJWs1DN",
        "colab_type": "text"
      },
      "source": [
        "# **Compiling the model**"
      ]
    },
    {
      "cell_type": "code",
      "metadata": {
        "id": "Rdp2MDubs407",
        "colab_type": "code",
        "colab": {}
      },
      "source": [
        "# compiling the model\n",
        "model.compile(loss='binary_crossentropy', optimizer=\"sgd\", metrics=['accuracy'])"
      ],
      "execution_count": 19,
      "outputs": []
    },
    {
      "cell_type": "markdown",
      "metadata": {
        "id": "hnEWTP_3s8jo",
        "colab_type": "text"
      },
      "source": [
        "# **Training the Model**"
      ]
    },
    {
      "cell_type": "code",
      "metadata": {
        "id": "KqYBoqlLs-Vj",
        "colab_type": "code",
        "colab": {
          "base_uri": "https://localhost:8080/",
          "height": 410
        },
        "outputId": "4ec9b186-1f86-4933-c584-3cc9f8b38d10"
      },
      "source": [
        "# training the model\n",
        "model_history = model.fit(X_train, y_train, epochs=10, batch_size=128,validation_data=(X_valid,y_valid))"
      ],
      "execution_count": 20,
      "outputs": [
        {
          "output_type": "stream",
          "text": [
            "Epoch 1/10\n",
            " 2/13 [===>..........................] - ETA: 2s - loss: 0.9105 - accuracy: 0.5039WARNING:tensorflow:Callbacks method `on_train_batch_end` is slow compared to the batch time (batch time: 0.1552s vs `on_train_batch_end` time: 0.3105s). Check your callbacks.\n",
            "13/13 [==============================] - 9s 693ms/step - loss: 0.7109 - accuracy: 0.5680 - val_loss: 0.6631 - val_accuracy: 0.5708\n",
            "Epoch 2/10\n",
            "13/13 [==============================] - 6s 495ms/step - loss: 0.6383 - accuracy: 0.6373 - val_loss: 0.6242 - val_accuracy: 0.6431\n",
            "Epoch 3/10\n",
            "13/13 [==============================] - 7s 509ms/step - loss: 0.6217 - accuracy: 0.6592 - val_loss: 0.6061 - val_accuracy: 0.6686\n",
            "Epoch 4/10\n",
            "13/13 [==============================] - 7s 516ms/step - loss: 0.5949 - accuracy: 0.6829 - val_loss: 0.5970 - val_accuracy: 0.6771\n",
            "Epoch 5/10\n",
            "13/13 [==============================] - 7s 525ms/step - loss: 0.5900 - accuracy: 0.6926 - val_loss: 0.5867 - val_accuracy: 0.6742\n",
            "Epoch 6/10\n",
            "13/13 [==============================] - 7s 534ms/step - loss: 0.5761 - accuracy: 0.6914 - val_loss: 0.5805 - val_accuracy: 0.6856\n",
            "Epoch 7/10\n",
            "13/13 [==============================] - 7s 551ms/step - loss: 0.5814 - accuracy: 0.6902 - val_loss: 0.5749 - val_accuracy: 0.6898\n",
            "Epoch 8/10\n",
            "13/13 [==============================] - 7s 560ms/step - loss: 0.5566 - accuracy: 0.7108 - val_loss: 0.5906 - val_accuracy: 0.6813\n",
            "Epoch 9/10\n",
            "13/13 [==============================] - 7s 569ms/step - loss: 0.5617 - accuracy: 0.7090 - val_loss: 0.5763 - val_accuracy: 0.6941\n",
            "Epoch 10/10\n",
            "13/13 [==============================] - 7s 568ms/step - loss: 0.5472 - accuracy: 0.7375 - val_loss: 0.5581 - val_accuracy: 0.7025\n"
          ],
          "name": "stdout"
        }
      ]
    },
    {
      "cell_type": "markdown",
      "metadata": {
        "id": "s4iDoFCvtM1P",
        "colab_type": "text"
      },
      "source": [
        "#  **Evaluating model performance**"
      ]
    },
    {
      "cell_type": "code",
      "metadata": {
        "id": "scEnnIT2tLYy",
        "colab_type": "code",
        "colab": {
          "base_uri": "https://localhost:8080/",
          "height": 108
        },
        "outputId": "d4e81e35-8780-4e86-cb62-4671d54f5682"
      },
      "source": [
        "# accuracy on training set\n",
        "print('Accuracy on training set:', accuracy_score(y_train, model.predict_classes(X_train)), '%')"
      ],
      "execution_count": 21,
      "outputs": [
        {
          "output_type": "stream",
          "text": [
            "WARNING:tensorflow:From <ipython-input-21-7a755ec9f670>:2: Sequential.predict_classes (from tensorflow.python.keras.engine.sequential) is deprecated and will be removed after 2021-01-01.\n",
            "Instructions for updating:\n",
            "Please use instead:* `np.argmax(model.predict(x), axis=-1)`,   if your model does multi-class classification   (e.g. if it uses a `softmax` last-layer activation).* `(model.predict(x) > 0.5).astype(\"int32\")`,   if your model does binary classification   (e.g. if it uses a `sigmoid` last-layer activation).\n",
            "Accuracy on training set: 0.7503037667071689 %\n"
          ],
          "name": "stdout"
        }
      ]
    },
    {
      "cell_type": "code",
      "metadata": {
        "id": "0WUY5WMfuchT",
        "colab_type": "code",
        "colab": {
          "base_uri": "https://localhost:8080/",
          "height": 35
        },
        "outputId": "3b5787df-3227-4da8-e133-ff3c98639bce"
      },
      "source": [
        "# accuracy on validation set\n",
        "print('Accuracy on validation set:', accuracy_score(y_valid, model.predict_classes(X_valid)), '%')"
      ],
      "execution_count": 22,
      "outputs": [
        {
          "output_type": "stream",
          "text": [
            "Accuracy on validation set: 0.7025495750708215 %\n"
          ],
          "name": "stdout"
        }
      ]
    },
    {
      "cell_type": "code",
      "metadata": {
        "id": "h567zSNhuhQk",
        "colab_type": "code",
        "colab": {
          "base_uri": "https://localhost:8080/",
          "height": 295
        },
        "outputId": "e1ae1ada-ea38-4ab2-eccf-71f4114347e9"
      },
      "source": [
        "# summarize history for loss\n",
        "plt.plot(model_history.history['loss'])\n",
        "plt.plot(model_history.history['val_loss'])\n",
        "plt.title('model loss')\n",
        "plt.ylabel('loss')\n",
        "plt.xlabel('epoch')\n",
        "plt.legend(['train', 'validation'], loc='upper left')\n",
        "plt.show()"
      ],
      "execution_count": 23,
      "outputs": [
        {
          "output_type": "display_data",
          "data": {
            "image/png": "[encoded data removed]",
            "text/plain": [
              "<Figure size 432x288 with 1 Axes>"
            ]
          },
          "metadata": {
            "tags": [],
            "needs_background": "light"
          }
        }
      ]
    },
    {
      "cell_type": "code",
      "metadata": {
        "id": "IEcoy8UIvCJJ",
        "colab_type": "code",
        "colab": {
          "base_uri": "https://localhost:8080/",
          "height": 295
        },
        "outputId": "8a189c4e-5576-4944-d638-d316958696ca"
      },
      "source": [
        "# summarize history for accuracy\n",
        "plt.plot(model_history.history['accuracy'])\n",
        "plt.plot(model_history.history['val_accuracy'])\n",
        "plt.title('model accuracy')\n",
        "plt.ylabel('accuracy')\n",
        "plt.xlabel('epoch')\n",
        "plt.legend(['train', 'validation'], loc='upper left')\n",
        "plt.show()"
      ],
      "execution_count": 25,
      "outputs": [
        {
          "output_type": "display_data",
          "data": {
            "image/png": "[encoded data removed]",
            "text/plain": [
              "<Figure size 432x288 with 1 Axes>"
            ]
          },
          "metadata": {
            "tags": [],
            "needs_background": "light"
          }
        }
      ]
    }
  ]
}