{
  "nbformat": 4,
  "nbformat_minor": 0,
  "metadata": {
    "colab": {
      "name": "Emergency vs non Emergency Vehicle Classification Using CNN.ipynb",
      "provenance": [],
      "authorship_tag": "ABX9TyOKK7eFGGLK19ldbycmoYLo",
      "include_colab_link": true
    },
    "kernelspec": {
      "name": "python3",
      "display_name": "Python 3"
    },
    "accelerator": "GPU"
  },
  "cells": [
    {
      "cell_type": "markdown",
      "metadata": {
        "id": "view-in-github",
        "colab_type": "text"
      },
      "source": [
        "<a href=\"https://colab.research.google.com/github/Deepak-Data-Scientist-IIT/Emergency-vs-Non-Emergency-Vehicle-Classification/blob/master/Emergency_vs_non_Emergency_Vehicle_Classification_Using_CNN.ipynb\" target=\"_parent\"><img src=\"https://colab.research.google.com/assets/colab-badge.svg\" alt=\"Open In Colab\"/></a>"
      ]
    },
    {
      "cell_type": "markdown",
      "metadata": {
        "id": "T7R1BjdBiTvH",
        "colab_type": "text"
      },
      "source": [
        "# **Loading DataSet**"
      ]
    },
    {
      "cell_type": "code",
      "metadata": {
        "id": "r7wPXmfmiXz8",
        "colab_type": "code",
        "colab": {}
      },
      "source": [
        "# import necessary libraries and functions\n",
        "import numpy as np\n",
        "import pandas as pd\n",
        "import matplotlib.pyplot as plt\n",
        "%matplotlib inline\n",
        "\n",
        "# importing layers from keras\n",
        "from keras.layers import Dense, InputLayer\n",
        "from keras.models import Sequential\n",
        "# importing adam optimizer from keras optimizer module \n",
        "from keras.optimizers import Adam\n",
        "# Importing Convotional Layer and flatten layer from keras\n",
        "from keras.layers import Conv2D, Flatten\n",
        "# importing maxpool layer from keras\n",
        "from keras.layers import MaxPool2D\n",
        "# importing layers from keras\n",
        "from keras.layers import Dense, InputLayer, BatchNormalization, Dropout\n",
        "\n",
        "# train_test_split to create training and validation set\n",
        "from sklearn.model_selection import train_test_split\n",
        "# accuracy_score to calculate the accuracy of predictions\n",
        "from sklearn.metrics import accuracy_score"
      ],
      "execution_count": 42,
      "outputs": []
    },
    {
      "cell_type": "code",
      "metadata": {
        "id": "40D1xj44idks",
        "colab_type": "code",
        "colab": {
          "base_uri": "https://localhost:8080/",
          "height": 35
        },
        "outputId": "9707b234-9e21-4b98-cec2-0e45a7ae223f"
      },
      "source": [
        "from google.colab import drive\n",
        "drive.mount('/content/drive')"
      ],
      "execution_count": 43,
      "outputs": [
        {
          "output_type": "stream",
          "text": [
            "Drive already mounted at /content/drive; to attempt to forcibly remount, call drive.mount(\"/content/drive\", force_remount=True).\n"
          ],
          "name": "stdout"
        }
      ]
    },
    {
      "cell_type": "code",
      "metadata": {
        "id": "z9UEk0Sri_M1",
        "colab_type": "code",
        "colab": {}
      },
      "source": [
        "!unzip -uq \"drive/My Drive/Dataset.zip\""
      ],
      "execution_count": 44,
      "outputs": []
    },
    {
      "cell_type": "code",
      "metadata": {
        "id": "6yz0Lg-8jC1i",
        "colab_type": "code",
        "colab": {}
      },
      "source": [
        "# Reading the CSV File\n",
        "data = pd.read_csv('Dataset/emergency_classification.csv')"
      ],
      "execution_count": 46,
      "outputs": []
    },
    {
      "cell_type": "code",
      "metadata": {
        "id": "d6-ggkXYjEhF",
        "colab_type": "code",
        "colab": {}
      },
      "source": [
        "# Create random number generator\n",
        "seed = 42\n",
        "\n",
        "rng = np.random.RandomState(seed)"
      ],
      "execution_count": 47,
      "outputs": []
    },
    {
      "cell_type": "code",
      "metadata": {
        "id": "FqjAd9yojLPO",
        "colab_type": "code",
        "colab": {
          "base_uri": "https://localhost:8080/",
          "height": 200
        },
        "outputId": "4ede8277-5d78-48bc-c82c-212db621fe34"
      },
      "source": [
        "# Looking the first five rows of the data\n",
        "data.head()"
      ],
      "execution_count": 6,
      "outputs": [
        {
          "output_type": "execute_result",
          "data": {
            "text/html": [
              "<div>\n",
              "<style scoped>\n",
              "    .dataframe tbody tr th:only-of-type {\n",
              "        vertical-align: middle;\n",
              "    }\n",
              "\n",
              "    .dataframe tbody tr th {\n",
              "        vertical-align: top;\n",
              "    }\n",
              "\n",
              "    .dataframe thead th {\n",
              "        text-align: right;\n",
              "    }\n",
              "</style>\n",
              "<table border=\"1\" class=\"dataframe\">\n",
              "  <thead>\n",
              "    <tr style=\"text-align: right;\">\n",
              "      <th></th>\n",
              "      <th>image_names</th>\n",
              "      <th>emergency_or_not</th>\n",
              "    </tr>\n",
              "  </thead>\n",
              "  <tbody>\n",
              "    <tr>\n",
              "      <th>0</th>\n",
              "      <td>0.jpg</td>\n",
              "      <td>1</td>\n",
              "    </tr>\n",
              "    <tr>\n",
              "      <th>1</th>\n",
              "      <td>1.jpg</td>\n",
              "      <td>1</td>\n",
              "    </tr>\n",
              "    <tr>\n",
              "      <th>2</th>\n",
              "      <td>2.jpg</td>\n",
              "      <td>1</td>\n",
              "    </tr>\n",
              "    <tr>\n",
              "      <th>3</th>\n",
              "      <td>3.jpg</td>\n",
              "      <td>1</td>\n",
              "    </tr>\n",
              "    <tr>\n",
              "      <th>4</th>\n",
              "      <td>4.jpg</td>\n",
              "      <td>1</td>\n",
              "    </tr>\n",
              "  </tbody>\n",
              "</table>\n",
              "</div>"
            ],
            "text/plain": [
              "  image_names  emergency_or_not\n",
              "0       0.jpg                 1\n",
              "1       1.jpg                 1\n",
              "2       2.jpg                 1\n",
              "3       3.jpg                 1\n",
              "4       4.jpg                 1"
            ]
          },
          "metadata": {
            "tags": []
          },
          "execution_count": 6
        }
      ]
    },
    {
      "cell_type": "code",
      "metadata": {
        "id": "CxNY26OLjReq",
        "colab_type": "code",
        "colab": {
          "base_uri": "https://localhost:8080/",
          "height": 70
        },
        "outputId": "44046ccd-3c73-40c4-e22f-8c37adc07610"
      },
      "source": [
        "# Distribution of classes in the dataset\n",
        "data['emergency_or_not'].value_counts()"
      ],
      "execution_count": 7,
      "outputs": [
        {
          "output_type": "execute_result",
          "data": {
            "text/plain": [
              "0    1361\n",
              "1     991\n",
              "Name: emergency_or_not, dtype: int64"
            ]
          },
          "metadata": {
            "tags": []
          },
          "execution_count": 7
        }
      ]
    },
    {
      "cell_type": "code",
      "metadata": {
        "id": "LwKPET9QjaXF",
        "colab_type": "code",
        "colab": {}
      },
      "source": [
        "# Load images and store it in numpy array\n",
        "\n",
        "# empty list to store the images\n",
        "X = []\n",
        "# iterating over each image\n",
        "for img_name in data.image_names:\n",
        "  # loading the image using its name\n",
        "  img = plt.imread('Dataset/images/' + img_name)\n",
        "  # saving each image in the list\n",
        "  X.append(img)\n",
        "\n",
        "# Converting the list of images into array\n",
        "X = np.array(X)\n",
        "\n",
        "# Storing the target variable in saperate variable\n",
        "y = data.emergency_or_not.values"
      ],
      "execution_count": 48,
      "outputs": []
    },
    {
      "cell_type": "code",
      "metadata": {
        "id": "H6Y0bHDWjnnE",
        "colab_type": "code",
        "colab": {
          "base_uri": "https://localhost:8080/",
          "height": 35
        },
        "outputId": "c8033b06-8970-4d00-86e6-ea638a728a51"
      },
      "source": [
        "# shape of the image\n",
        "X.shape, y.shape"
      ],
      "execution_count": 49,
      "outputs": [
        {
          "output_type": "execute_result",
          "data": {
            "text/plain": [
              "((2352, 224, 224, 3), (2352,))"
            ]
          },
          "metadata": {
            "tags": []
          },
          "execution_count": 49
        }
      ]
    },
    {
      "cell_type": "markdown",
      "metadata": {
        "id": "M3q4i5hsj2f3",
        "colab_type": "text"
      },
      "source": [
        "# **Pre-Processing the data**"
      ]
    },
    {
      "cell_type": "code",
      "metadata": {
        "id": "Xm8G6NILjz6C",
        "colab_type": "code",
        "colab": {}
      },
      "source": [
        "# Since we are using CNN  We do not have to resize the image into 1D array"
      ],
      "execution_count": null,
      "outputs": []
    },
    {
      "cell_type": "code",
      "metadata": {
        "id": "sP8GIZfvkIGa",
        "colab_type": "code",
        "colab": {}
      },
      "source": [
        "# Normalize the pixel values\n",
        "X = X / X.max()"
      ],
      "execution_count": null,
      "outputs": []
    },
    {
      "cell_type": "code",
      "metadata": {
        "id": "epub4qG6kX7W",
        "colab_type": "code",
        "colab": {
          "base_uri": "https://localhost:8080/",
          "height": 35
        },
        "outputId": "6d4e189f-cd07-4896-eb88-1ea74525c3f1"
      },
      "source": [
        "# minimum and maximum pixel value of images after normalize\n",
        "X.min(), X.max()"
      ],
      "execution_count": null,
      "outputs": [
        {
          "output_type": "execute_result",
          "data": {
            "text/plain": [
              "(0.0, 1.0)"
            ]
          },
          "metadata": {
            "tags": []
          },
          "execution_count": 9
        }
      ]
    },
    {
      "cell_type": "markdown",
      "metadata": {
        "id": "qURPajlPkhm3",
        "colab_type": "text"
      },
      "source": [
        "# **Creating tarining and validation set**"
      ]
    },
    {
      "cell_type": "code",
      "metadata": {
        "id": "aqJhVt2LkkRP",
        "colab_type": "code",
        "colab": {}
      },
      "source": [
        "# Creating training and validation set\n",
        "X_train, X_valid, y_train, y_valid = train_test_split(X,y, test_size = 0.3, random_state= seed)"
      ],
      "execution_count": 8,
      "outputs": []
    },
    {
      "cell_type": "code",
      "metadata": {
        "id": "RscxGDtFkqda",
        "colab_type": "code",
        "colab": {
          "base_uri": "https://localhost:8080/",
          "height": 35
        },
        "outputId": "421ea2be-be5a-4d91-e7d4-188dd90097aa"
      },
      "source": [
        "# Shape of training and validation set\n",
        "(X_train.shape, y_train.shape), (X_valid.shape, y_valid.shape)"
      ],
      "execution_count": 9,
      "outputs": [
        {
          "output_type": "execute_result",
          "data": {
            "text/plain": [
              "(((1646, 224, 224, 3), (1646,)), ((706, 224, 224, 3), (706,)))"
            ]
          },
          "metadata": {
            "tags": []
          },
          "execution_count": 9
        }
      ]
    },
    {
      "cell_type": "markdown",
      "metadata": {
        "id": "Ulq952o_k8qX",
        "colab_type": "text"
      },
      "source": [
        "# **Defining the model architecture**"
      ]
    },
    {
      "cell_type": "code",
      "metadata": {
        "id": "UwOQXSCLlBUa",
        "colab_type": "code",
        "colab": {}
      },
      "source": [
        "# Importing Convotional Layer and flatten layer from keras\n",
        "from keras.layers import Conv2D, Flatten"
      ],
      "execution_count": null,
      "outputs": []
    },
    {
      "cell_type": "code",
      "metadata": {
        "id": "_5LKYyCKlspX",
        "colab_type": "code",
        "colab": {}
      },
      "source": [
        "# Defining the model Architecture\n",
        "\n",
        "# Creating a Sequential model\n",
        "model = Sequential()\n",
        "\n",
        "# Defining input layer with 3D input of shape(224,224,3)\n",
        "model.add(InputLayer(input_shape=(224,224,3)))\n",
        "\n",
        "# Defining the First Convolutional layer with 25 filters of size (5,5)\n",
        "model.add(Conv2D(25,(5,5), activation='relu', strides=(1,1), padding='valid'))\n",
        "\n",
        "# Defining the First Convolutional layer with 50 filters of size (5,5)\n",
        "model.add(Conv2D(50,(5,5), activation='relu', strides=(1,1), padding='valid'))\n",
        "\n",
        "# Flattining the output from convolutional layer So that it can be forwarded to the dense layers\n",
        "model.add(Flatten())\n",
        "\n",
        "# Defining the first dense layer and fully connected layer with 100 neurons\n",
        "model.add(Dense(units=100, activation='sigmoid'))\n",
        "\n",
        "# Defining the output layer with 1 neuron since it is a binary classification problem\n",
        "model.add(Dense(units=1, activation='sigmoid'))"
      ],
      "execution_count": null,
      "outputs": []
    },
    {
      "cell_type": "code",
      "metadata": {
        "id": "etUPzQzpq5hA",
        "colab_type": "code",
        "colab": {
          "base_uri": "https://localhost:8080/",
          "height": 337
        },
        "outputId": "55b4a248-46ae-47d7-a69d-cda3a2f35616"
      },
      "source": [
        "# printing summary of the model\n",
        "model.summary()"
      ],
      "execution_count": null,
      "outputs": [
        {
          "output_type": "stream",
          "text": [
            "Model: \"sequential\"\n",
            "_________________________________________________________________\n",
            "Layer (type)                 Output Shape              Param #   \n",
            "=================================================================\n",
            "conv2d (Conv2D)              (None, 220, 220, 25)      1900      \n",
            "_________________________________________________________________\n",
            "conv2d_1 (Conv2D)            (None, 216, 216, 50)      31300     \n",
            "_________________________________________________________________\n",
            "flatten (Flatten)            (None, 2332800)           0         \n",
            "_________________________________________________________________\n",
            "dense (Dense)                (None, 100)               233280100 \n",
            "_________________________________________________________________\n",
            "dense_1 (Dense)              (None, 1)                 101       \n",
            "=================================================================\n",
            "Total params: 233,313,401\n",
            "Trainable params: 233,313,401\n",
            "Non-trainable params: 0\n",
            "_________________________________________________________________\n"
          ],
          "name": "stdout"
        }
      ]
    },
    {
      "cell_type": "markdown",
      "metadata": {
        "id": "dB3PmwCkrHfZ",
        "colab_type": "text"
      },
      "source": [
        "# **1.5  Understanding the Architecture**"
      ]
    },
    {
      "cell_type": "markdown",
      "metadata": {
        "id": "JtKQAJx6rMp2",
        "colab_type": "text"
      },
      "source": [
        "* Input shape is (224,224,3) since images are of this shape\n",
        "* We then applied 25 filters each of shape (5,5) and stride is (1,1)\n",
        "* So the output from first convolutional layer is: (224-5+1,224-5+1,25) which is (220,220,25)\n",
        "* We then applied 50 filters of shape (5,5) each with stride (1,1)\n",
        "* Then the output is (220-5+1,220-5+1,50) which is (216,216,50)\n",
        "* Then this output is flattened which resulted in 216 X 216 X 50 = 2332800 features\n",
        "* Finally these features are passed through the fully connected layers."
      ]
    },
    {
      "cell_type": "markdown",
      "metadata": {
        "id": "PQe45jvZrpzR",
        "colab_type": "text"
      },
      "source": [
        "# 1.6  **Understanding the number of parameters of different layers**"
      ]
    },
    {
      "cell_type": "markdown",
      "metadata": {
        "id": "U4_CYN8Ersct",
        "colab_type": "text"
      },
      "source": [
        "1 First Convolutional Layer\n",
        "* Number of input channels = 3\n",
        "* Number of filters = 25\n",
        "* Filter Size = (5,5)\n",
        "* Learnable parameters = 25 * 5 * 5 * 3 + 25 (1 bias for each filter) = 1900\n",
        "\n",
        "2 Second Convolutional Layer\n",
        "* Number of input channels = 25\n",
        "* Number of filters = 50\n",
        "* Filter Size = (5,5)\n",
        "* Learnable parameters = 50 * 5 * 5 * 25 + 50 (1 bias for each filter) = 31300\n",
        "\n",
        "3 First Fully Connected Layer\n",
        "* Number of input features = 216 * 216 * 50 = 2332800\n",
        "* Number of neurons in this hidden layer = 100\n",
        "* Learnable parameters = 2332800 * 100 + 100 (1 bias for each neuron) = 233280100\n",
        "\n",
        "4 Output Layer\n",
        "* Number of input features = 100\n",
        "* Number of neurons in this layer = 1\n",
        "* Learnable parameters = 100 * 1 + 1 (1 bias for each neuron) = 101"
      ]
    },
    {
      "cell_type": "markdown",
      "metadata": {
        "id": "iFaZkrJWs1DN",
        "colab_type": "text"
      },
      "source": [
        "# **Compiling the model**"
      ]
    },
    {
      "cell_type": "code",
      "metadata": {
        "id": "Rdp2MDubs407",
        "colab_type": "code",
        "colab": {}
      },
      "source": [
        "# compiling the model\n",
        "model.compile(loss='binary_crossentropy', optimizer=\"sgd\", metrics=['accuracy'])"
      ],
      "execution_count": null,
      "outputs": []
    },
    {
      "cell_type": "markdown",
      "metadata": {
        "id": "hnEWTP_3s8jo",
        "colab_type": "text"
      },
      "source": [
        "# **Training the Model**"
      ]
    },
    {
      "cell_type": "code",
      "metadata": {
        "id": "KqYBoqlLs-Vj",
        "colab_type": "code",
        "colab": {
          "base_uri": "https://localhost:8080/",
          "height": 410
        },
        "outputId": "4ec9b186-1f86-4933-c584-3cc9f8b38d10"
      },
      "source": [
        "# training the model\n",
        "model_history = model.fit(X_train, y_train, epochs=10, batch_size=128,validation_data=(X_valid,y_valid))"
      ],
      "execution_count": null,
      "outputs": [
        {
          "output_type": "stream",
          "text": [
            "Epoch 1/10\n",
            " 2/13 [===>..........................] - ETA: 2s - loss: 0.9105 - accuracy: 0.5039WARNING:tensorflow:Callbacks method `on_train_batch_end` is slow compared to the batch time (batch time: 0.1552s vs `on_train_batch_end` time: 0.3105s). Check your callbacks.\n",
            "13/13 [==============================] - 9s 693ms/step - loss: 0.7109 - accuracy: 0.5680 - val_loss: 0.6631 - val_accuracy: 0.5708\n",
            "Epoch 2/10\n",
            "13/13 [==============================] - 6s 495ms/step - loss: 0.6383 - accuracy: 0.6373 - val_loss: 0.6242 - val_accuracy: 0.6431\n",
            "Epoch 3/10\n",
            "13/13 [==============================] - 7s 509ms/step - loss: 0.6217 - accuracy: 0.6592 - val_loss: 0.6061 - val_accuracy: 0.6686\n",
            "Epoch 4/10\n",
            "13/13 [==============================] - 7s 516ms/step - loss: 0.5949 - accuracy: 0.6829 - val_loss: 0.5970 - val_accuracy: 0.6771\n",
            "Epoch 5/10\n",
            "13/13 [==============================] - 7s 525ms/step - loss: 0.5900 - accuracy: 0.6926 - val_loss: 0.5867 - val_accuracy: 0.6742\n",
            "Epoch 6/10\n",
            "13/13 [==============================] - 7s 534ms/step - loss: 0.5761 - accuracy: 0.6914 - val_loss: 0.5805 - val_accuracy: 0.6856\n",
            "Epoch 7/10\n",
            "13/13 [==============================] - 7s 551ms/step - loss: 0.5814 - accuracy: 0.6902 - val_loss: 0.5749 - val_accuracy: 0.6898\n",
            "Epoch 8/10\n",
            "13/13 [==============================] - 7s 560ms/step - loss: 0.5566 - accuracy: 0.7108 - val_loss: 0.5906 - val_accuracy: 0.6813\n",
            "Epoch 9/10\n",
            "13/13 [==============================] - 7s 569ms/step - loss: 0.5617 - accuracy: 0.7090 - val_loss: 0.5763 - val_accuracy: 0.6941\n",
            "Epoch 10/10\n",
            "13/13 [==============================] - 7s 568ms/step - loss: 0.5472 - accuracy: 0.7375 - val_loss: 0.5581 - val_accuracy: 0.7025\n"
          ],
          "name": "stdout"
        }
      ]
    },
    {
      "cell_type": "markdown",
      "metadata": {
        "id": "s4iDoFCvtM1P",
        "colab_type": "text"
      },
      "source": [
        "#  **Evaluating model performance**"
      ]
    },
    {
      "cell_type": "code",
      "metadata": {
        "id": "scEnnIT2tLYy",
        "colab_type": "code",
        "colab": {
          "base_uri": "https://localhost:8080/",
          "height": 108
        },
        "outputId": "d4e81e35-8780-4e86-cb62-4671d54f5682"
      },
      "source": [
        "# accuracy on training set\n",
        "print('Accuracy on training set:', accuracy_score(y_train, model.predict_classes(X_train)), '%')"
      ],
      "execution_count": null,
      "outputs": [
        {
          "output_type": "stream",
          "text": [
            "WARNING:tensorflow:From <ipython-input-21-7a755ec9f670>:2: Sequential.predict_classes (from tensorflow.python.keras.engine.sequential) is deprecated and will be removed after 2021-01-01.\n",
            "Instructions for updating:\n",
            "Please use instead:* `np.argmax(model.predict(x), axis=-1)`,   if your model does multi-class classification   (e.g. if it uses a `softmax` last-layer activation).* `(model.predict(x) > 0.5).astype(\"int32\")`,   if your model does binary classification   (e.g. if it uses a `sigmoid` last-layer activation).\n",
            "Accuracy on training set: 0.7503037667071689 %\n"
          ],
          "name": "stdout"
        }
      ]
    },
    {
      "cell_type": "code",
      "metadata": {
        "id": "0WUY5WMfuchT",
        "colab_type": "code",
        "colab": {
          "base_uri": "https://localhost:8080/",
          "height": 35
        },
        "outputId": "3b5787df-3227-4da8-e133-ff3c98639bce"
      },
      "source": [
        "# accuracy on validation set\n",
        "print('Accuracy on validation set:', accuracy_score(y_valid, model.predict_classes(X_valid)), '%')"
      ],
      "execution_count": null,
      "outputs": [
        {
          "output_type": "stream",
          "text": [
            "Accuracy on validation set: 0.7025495750708215 %\n"
          ],
          "name": "stdout"
        }
      ]
    },
    {
      "cell_type": "code",
      "metadata": {
        "id": "h567zSNhuhQk",
        "colab_type": "code",
        "colab": {
          "base_uri": "https://localhost:8080/",
          "height": 295
        },
        "outputId": "e1ae1ada-ea38-4ab2-eccf-71f4114347e9"
      },
      "source": [
        "# summarize history for loss\n",
        "plt.plot(model_history.history['loss'])\n",
        "plt.plot(model_history.history['val_loss'])\n",
        "plt.title('model loss')\n",
        "plt.ylabel('loss')\n",
        "plt.xlabel('epoch')\n",
        "plt.legend(['train', 'validation'], loc='upper left')\n",
        "plt.show()"
      ],
      "execution_count": null,
      "outputs": [
        {
          "output_type": "display_data",
          "data": {
            "image/png": "[encoded data removed]",
            "text/plain": [
              "<Figure size 432x288 with 1 Axes>"
            ]
          },
          "metadata": {
            "tags": [],
            "needs_background": "light"
          }
        }
      ]
    },
    {
      "cell_type": "code",
      "metadata": {
        "id": "IEcoy8UIvCJJ",
        "colab_type": "code",
        "colab": {
          "base_uri": "https://localhost:8080/",
          "height": 295
        },
        "outputId": "8a189c4e-5576-4944-d638-d316958696ca"
      },
      "source": [
        "# summarize history for accuracy\n",
        "plt.plot(model_history.history['accuracy'])\n",
        "plt.plot(model_history.history['val_accuracy'])\n",
        "plt.title('model accuracy')\n",
        "plt.ylabel('accuracy')\n",
        "plt.xlabel('epoch')\n",
        "plt.legend(['train', 'validation'], loc='upper left')\n",
        "plt.show()"
      ],
      "execution_count": null,
      "outputs": [
        {
          "output_type": "display_data",
          "data": {
            "image/png": "[encoded data removed]",
            "text/plain": [
              "<Figure size 432x288 with 1 Axes>"
            ]
          },
          "metadata": {
            "tags": [],
            "needs_background": "light"
          }
        }
      ]
    },
    {
      "cell_type": "markdown",
      "metadata": {
        "id": "dPQ9hOE1TNS6",
        "colab_type": "text"
      },
      "source": [
        "# **2 Adding Maxpool layer to reduce parameters**"
      ]
    },
    {
      "cell_type": "code",
      "metadata": {
        "id": "w0MQ2DVrTTrP",
        "colab_type": "code",
        "colab": {}
      },
      "source": [
        "# importing maxpool layer from keras\n",
        "from keras.layers import MaxPool2D"
      ],
      "execution_count": null,
      "outputs": []
    },
    {
      "cell_type": "code",
      "metadata": {
        "id": "jQs3262YTeXo",
        "colab_type": "code",
        "colab": {}
      },
      "source": [
        "# defining the model architecture with maxpool layer\n",
        "model = Sequential()\n",
        "    \n",
        "model.add(InputLayer(input_shape=(224, 224, 3)))\n",
        "\n",
        "model.add(Conv2D(25, (5, 5), activation='relu', strides=(1, 1), padding='valid'))\n",
        "model.add(Conv2D(50, (5, 5), activation='relu', strides=(1, 1), padding='valid'))\n",
        "# adding maxpool layer after the convolutional layers\n",
        "model.add(MaxPool2D(pool_size=(4, 4), padding='valid'))\n",
        "model.add(Flatten())\n",
        "\n",
        "model.add(Dense(units=100, activation='sigmoid'))\n",
        "model.add(Dense(units=1, activation='sigmoid'))\n",
        "\n",
        "# compiling the model\n",
        "model.compile(loss='binary_crossentropy', optimizer=\"sgd\", metrics=['accuracy'])"
      ],
      "execution_count": null,
      "outputs": []
    },
    {
      "cell_type": "code",
      "metadata": {
        "id": "cIqWToXnTork",
        "colab_type": "code",
        "colab": {
          "base_uri": "https://localhost:8080/",
          "height": 372
        },
        "outputId": "7dcc28a4-c10d-4846-c3ed-ad3d0716e2af"
      },
      "source": [
        "# summary of the model\n",
        "model.summary()"
      ],
      "execution_count": null,
      "outputs": [
        {
          "output_type": "stream",
          "text": [
            "Model: \"sequential_1\"\n",
            "_________________________________________________________________\n",
            "Layer (type)                 Output Shape              Param #   \n",
            "=================================================================\n",
            "conv2d (Conv2D)              (None, 220, 220, 25)      1900      \n",
            "_________________________________________________________________\n",
            "conv2d_1 (Conv2D)            (None, 216, 216, 50)      31300     \n",
            "_________________________________________________________________\n",
            "max_pooling2d (MaxPooling2D) (None, 54, 54, 50)        0         \n",
            "_________________________________________________________________\n",
            "flatten (Flatten)            (None, 145800)            0         \n",
            "_________________________________________________________________\n",
            "dense (Dense)                (None, 100)               14580100  \n",
            "_________________________________________________________________\n",
            "dense_1 (Dense)              (None, 1)                 101       \n",
            "=================================================================\n",
            "Total params: 14,613,401\n",
            "Trainable params: 14,613,401\n",
            "Non-trainable params: 0\n",
            "_________________________________________________________________\n"
          ],
          "name": "stdout"
        }
      ]
    },
    {
      "cell_type": "code",
      "metadata": {
        "id": "ZAZK6fWqTt1d",
        "colab_type": "code",
        "colab": {
          "base_uri": "https://localhost:8080/",
          "height": 410
        },
        "outputId": "46f5aa67-c02a-415c-e6d5-dcd262b47ca0"
      },
      "source": [
        "# training the model\n",
        "model_history = model.fit(X_train, y_train, epochs=10, batch_size=128,validation_data=(X_valid,y_valid))"
      ],
      "execution_count": null,
      "outputs": [
        {
          "output_type": "stream",
          "text": [
            "Epoch 1/10\n",
            " 2/13 [===>..........................] - ETA: 4s - loss: 0.6770 - accuracy: 0.6016WARNING:tensorflow:Callbacks method `on_train_batch_end` is slow compared to the batch time (batch time: 0.1677s vs `on_train_batch_end` time: 0.6040s). Check your callbacks.\n",
            "13/13 [==============================] - 16s 1s/step - loss: 0.6770 - accuracy: 0.5863 - val_loss: 0.6766 - val_accuracy: 0.5609\n",
            "Epoch 2/10\n",
            "13/13 [==============================] - 11s 839ms/step - loss: 0.6683 - accuracy: 0.5869 - val_loss: 0.6658 - val_accuracy: 0.5609\n",
            "Epoch 3/10\n",
            "13/13 [==============================] - 11s 844ms/step - loss: 0.6595 - accuracy: 0.5905 - val_loss: 0.6564 - val_accuracy: 0.5822\n",
            "Epoch 4/10\n",
            "13/13 [==============================] - 11s 840ms/step - loss: 0.6496 - accuracy: 0.6124 - val_loss: 0.6462 - val_accuracy: 0.6133\n",
            "Epoch 5/10\n",
            "13/13 [==============================] - 11s 847ms/step - loss: 0.6419 - accuracy: 0.6337 - val_loss: 0.6341 - val_accuracy: 0.6586\n",
            "Epoch 6/10\n",
            "13/13 [==============================] - 11s 849ms/step - loss: 0.6331 - accuracy: 0.6476 - val_loss: 0.6275 - val_accuracy: 0.6374\n",
            "Epoch 7/10\n",
            "13/13 [==============================] - 11s 850ms/step - loss: 0.6208 - accuracy: 0.6616 - val_loss: 0.6169 - val_accuracy: 0.6601\n",
            "Epoch 8/10\n",
            "13/13 [==============================] - 11s 845ms/step - loss: 0.6150 - accuracy: 0.6574 - val_loss: 0.6034 - val_accuracy: 0.6856\n",
            "Epoch 9/10\n",
            "13/13 [==============================] - 11s 854ms/step - loss: 0.6122 - accuracy: 0.6798 - val_loss: 0.6419 - val_accuracy: 0.6062\n",
            "Epoch 10/10\n",
            "13/13 [==============================] - 11s 853ms/step - loss: 0.6058 - accuracy: 0.6683 - val_loss: 0.6139 - val_accuracy: 0.6360\n"
          ],
          "name": "stdout"
        }
      ]
    },
    {
      "cell_type": "code",
      "metadata": {
        "id": "UXH7RZWVUXaZ",
        "colab_type": "code",
        "colab": {
          "base_uri": "https://localhost:8080/",
          "height": 108
        },
        "outputId": "e3a55cee-341c-483c-ec54-f6af9b3dea85"
      },
      "source": [
        "# accuracy on training set\n",
        "print('Accuracy on training set:', accuracy_score(y_train, model.predict_classes(X_train)), '%')"
      ],
      "execution_count": null,
      "outputs": [
        {
          "output_type": "stream",
          "text": [
            "WARNING:tensorflow:From <ipython-input-23-7a755ec9f670>:2: Sequential.predict_classes (from tensorflow.python.keras.engine.sequential) is deprecated and will be removed after 2021-01-01.\n",
            "Instructions for updating:\n",
            "Please use instead:* `np.argmax(model.predict(x), axis=-1)`,   if your model does multi-class classification   (e.g. if it uses a `softmax` last-layer activation).* `(model.predict(x) > 0.5).astype(\"int32\")`,   if your model does binary classification   (e.g. if it uses a `sigmoid` last-layer activation).\n",
            "Accuracy on training set: 0.6597812879708383 %\n"
          ],
          "name": "stdout"
        }
      ]
    },
    {
      "cell_type": "code",
      "metadata": {
        "id": "HkRo5RZwUjgr",
        "colab_type": "code",
        "colab": {
          "base_uri": "https://localhost:8080/",
          "height": 35
        },
        "outputId": "99f6f40a-396c-4e5f-ccdb-17bfac9b6ced"
      },
      "source": [
        "# accuracy on validation set\n",
        "print('Accuracy on validation set:', accuracy_score(y_valid, model.predict_classes(X_valid)), '%')"
      ],
      "execution_count": null,
      "outputs": [
        {
          "output_type": "stream",
          "text": [
            "Accuracy on validation set: 0.6359773371104815 %\n"
          ],
          "name": "stdout"
        }
      ]
    },
    {
      "cell_type": "code",
      "metadata": {
        "id": "NuvcthflUuzv",
        "colab_type": "code",
        "colab": {
          "base_uri": "https://localhost:8080/",
          "height": 295
        },
        "outputId": "63d7af3a-c449-47a3-9289-01ab1ec4e6d1"
      },
      "source": [
        "# summarize history for loss\n",
        "plt.plot(model_history.history['loss'])\n",
        "plt.plot(model_history.history['val_loss'])\n",
        "plt.title('model loss')\n",
        "plt.ylabel('loss')\n",
        "plt.xlabel('epoch')\n",
        "plt.legend(['train', 'validation'], loc='upper left')\n",
        "plt.show()"
      ],
      "execution_count": null,
      "outputs": [
        {
          "output_type": "display_data",
          "data": {
            "image/png": "[encoded data removed]",
            "text/plain": [
              "<Figure size 432x288 with 1 Axes>"
            ]
          },
          "metadata": {
            "tags": [],
            "needs_background": "light"
          }
        }
      ]
    },
    {
      "cell_type": "code",
      "metadata": {
        "id": "KfGVmGxnU0sE",
        "colab_type": "code",
        "colab": {
          "base_uri": "https://localhost:8080/",
          "height": 295
        },
        "outputId": "b0e76e9e-0adb-4118-d909-090c3d74e679"
      },
      "source": [
        "# summarize history for accuracy\n",
        "plt.plot(model_history.history['accuracy'])\n",
        "plt.plot(model_history.history['val_accuracy'])\n",
        "plt.title('model accuracy')\n",
        "plt.ylabel('accuracy')\n",
        "plt.xlabel('epoch')\n",
        "plt.legend(['train', 'validation'], loc='upper left')\n",
        "plt.show()"
      ],
      "execution_count": null,
      "outputs": [
        {
          "output_type": "display_data",
          "data": {
            "image/png": "[encoded data removed]",
            "text/plain": [
              "<Figure size 432x288 with 1 Axes>"
            ]
          },
          "metadata": {
            "tags": [],
            "needs_background": "light"
          }
        }
      ]
    },
    {
      "cell_type": "markdown",
      "metadata": {
        "id": "zcV0GqTbU6GK",
        "colab_type": "text"
      },
      "source": [
        "# **3 Hyperparameter Tuning of Convolutional Neural Networks**"
      ]
    },
    {
      "cell_type": "markdown",
      "metadata": {
        "id": "MBZDJPTZVROU",
        "colab_type": "text"
      },
      "source": [
        "# **3.1 Increasing number of convolutional layers**"
      ]
    },
    {
      "cell_type": "code",
      "metadata": {
        "id": "98w7Ir6078-w",
        "colab_type": "code",
        "colab": {}
      },
      "source": [
        "from keras.layers import Conv2D, Flatten\n",
        "# importing maxpool layer from keras\n",
        "from keras.layers import MaxPool2D"
      ],
      "execution_count": null,
      "outputs": []
    },
    {
      "cell_type": "code",
      "metadata": {
        "id": "E5wZw09iVBAn",
        "colab_type": "code",
        "colab": {}
      },
      "source": [
        "# increase number of convolutional layers\n",
        "\n",
        "model = Sequential()\n",
        "    \n",
        "model.add(InputLayer(input_shape=(224, 224, 3)))\n",
        "\n",
        "model.add(Conv2D(25, (5, 5), activation='relu', strides=(1, 1), padding='valid'))\n",
        "model.add(Conv2D(50, (5, 5), activation='relu', strides=(1, 1), padding='valid'))\n",
        "model.add(Conv2D(50, (5, 5), activation='relu', strides=(1, 1), padding='valid'))\n",
        "model.add(MaxPool2D(pool_size=(4, 4), padding='valid'))\n",
        "\n",
        "model.add(Flatten())\n",
        "\n",
        "model.add(Dense(units=100, activation='sigmoid'))\n",
        "model.add(Dense(units=1, activation='sigmoid'))\n",
        "\n",
        "# Compile the model\n",
        "model.compile(loss='binary_crossentropy', optimizer=\"sgd\", metrics=['accuracy'])"
      ],
      "execution_count": null,
      "outputs": []
    },
    {
      "cell_type": "code",
      "metadata": {
        "id": "omEGgIoJVoLW",
        "colab_type": "code",
        "colab": {
          "base_uri": "https://localhost:8080/",
          "height": 408
        },
        "outputId": "9835a6a6-2730-41f9-bbd3-ace9ee641728"
      },
      "source": [
        "model.summary()"
      ],
      "execution_count": null,
      "outputs": [
        {
          "output_type": "stream",
          "text": [
            "Model: \"sequential_3\"\n",
            "_________________________________________________________________\n",
            "Layer (type)                 Output Shape              Param #   \n",
            "=================================================================\n",
            "conv2d_6 (Conv2D)            (None, 220, 220, 25)      1900      \n",
            "_________________________________________________________________\n",
            "conv2d_7 (Conv2D)            (None, 216, 216, 50)      31300     \n",
            "_________________________________________________________________\n",
            "conv2d_8 (Conv2D)            (None, 212, 212, 50)      62550     \n",
            "_________________________________________________________________\n",
            "max_pooling2d_1 (MaxPooling2 (None, 53, 53, 50)        0         \n",
            "_________________________________________________________________\n",
            "flatten_1 (Flatten)          (None, 140450)            0         \n",
            "_________________________________________________________________\n",
            "dense_2 (Dense)              (None, 100)               14045100  \n",
            "_________________________________________________________________\n",
            "dense_3 (Dense)              (None, 1)                 101       \n",
            "=================================================================\n",
            "Total params: 14,140,951\n",
            "Trainable params: 14,140,951\n",
            "Non-trainable params: 0\n",
            "_________________________________________________________________\n"
          ],
          "name": "stdout"
        }
      ]
    },
    {
      "cell_type": "code",
      "metadata": {
        "id": "T83SSyFQVvL6",
        "colab_type": "code",
        "colab": {
          "base_uri": "https://localhost:8080/",
          "height": 372
        },
        "outputId": "18b122d3-f267-4533-b0f9-bd937a092126"
      },
      "source": [
        "# training the model\n",
        "model_history = model.fit(X_train, y_train, epochs=10, batch_size=128,validation_data=(X_valid,y_valid))"
      ],
      "execution_count": null,
      "outputs": [
        {
          "output_type": "stream",
          "text": [
            "Epoch 1/10\n",
            "13/13 [==============================] - 38s 3s/step - loss: 0.6782 - accuracy: 0.5863 - val_loss: 0.6850 - val_accuracy: 0.5609\n",
            "Epoch 2/10\n",
            "13/13 [==============================] - 25s 2s/step - loss: 0.6751 - accuracy: 0.5863 - val_loss: 0.6812 - val_accuracy: 0.5609\n",
            "Epoch 3/10\n",
            "13/13 [==============================] - 25s 2s/step - loss: 0.6723 - accuracy: 0.5863 - val_loss: 0.6777 - val_accuracy: 0.5609\n",
            "Epoch 4/10\n",
            "13/13 [==============================] - 25s 2s/step - loss: 0.6686 - accuracy: 0.5863 - val_loss: 0.6725 - val_accuracy: 0.5609\n",
            "Epoch 5/10\n",
            "13/13 [==============================] - 25s 2s/step - loss: 0.6641 - accuracy: 0.5863 - val_loss: 0.6672 - val_accuracy: 0.5609\n",
            "Epoch 6/10\n",
            "13/13 [==============================] - 25s 2s/step - loss: 0.6579 - accuracy: 0.5887 - val_loss: 0.6616 - val_accuracy: 0.5623\n",
            "Epoch 7/10\n",
            "13/13 [==============================] - 25s 2s/step - loss: 0.6500 - accuracy: 0.6069 - val_loss: 0.6487 - val_accuracy: 0.5977\n",
            "Epoch 8/10\n",
            "13/13 [==============================] - 25s 2s/step - loss: 0.6397 - accuracy: 0.6464 - val_loss: 0.6365 - val_accuracy: 0.6374\n",
            "Epoch 9/10\n",
            "13/13 [==============================] - 25s 2s/step - loss: 0.6330 - accuracy: 0.6440 - val_loss: 0.6262 - val_accuracy: 0.6686\n",
            "Epoch 10/10\n",
            "13/13 [==============================] - 25s 2s/step - loss: 0.6225 - accuracy: 0.6586 - val_loss: 0.6183 - val_accuracy: 0.6501\n"
          ],
          "name": "stdout"
        }
      ]
    },
    {
      "cell_type": "code",
      "metadata": {
        "id": "GRXC_mzlW-Zf",
        "colab_type": "code",
        "colab": {
          "base_uri": "https://localhost:8080/",
          "height": 108
        },
        "outputId": "2f9e3d81-4ef8-469c-aad3-f957966a5180"
      },
      "source": [
        "# accuracy on training set\n",
        "print('Accuracy on training set:', accuracy_score(y_train, model.predict_classes(X_train)), '%')"
      ],
      "execution_count": null,
      "outputs": [
        {
          "output_type": "stream",
          "text": [
            "WARNING:tensorflow:From <ipython-input-26-7a755ec9f670>:2: Sequential.predict_classes (from tensorflow.python.keras.engine.sequential) is deprecated and will be removed after 2021-01-01.\n",
            "Instructions for updating:\n",
            "Please use instead:* `np.argmax(model.predict(x), axis=-1)`,   if your model does multi-class classification   (e.g. if it uses a `softmax` last-layer activation).* `(model.predict(x) > 0.5).astype(\"int32\")`,   if your model does binary classification   (e.g. if it uses a `sigmoid` last-layer activation).\n",
            "Accuracy on training set: 0.6640340218712029 %\n"
          ],
          "name": "stdout"
        }
      ]
    },
    {
      "cell_type": "code",
      "metadata": {
        "id": "PNPcKOzvXKE1",
        "colab_type": "code",
        "colab": {
          "base_uri": "https://localhost:8080/",
          "height": 35
        },
        "outputId": "d7dad54d-718e-46d2-dd9c-25d13f42acef"
      },
      "source": [
        "# accuracy on validation set\n",
        "print('Accuracy on validation set:', accuracy_score(y_valid, model.predict_classes(X_valid)), '%')"
      ],
      "execution_count": null,
      "outputs": [
        {
          "output_type": "stream",
          "text": [
            "Accuracy on validation set: 0.6501416430594901 %\n"
          ],
          "name": "stdout"
        }
      ]
    },
    {
      "cell_type": "markdown",
      "metadata": {
        "id": "KFnuSZK-XW5x",
        "colab_type": "text"
      },
      "source": [
        "# **3. 2 Increasing number of pooling layers**"
      ]
    },
    {
      "cell_type": "code",
      "metadata": {
        "id": "vXR68bOYXcnw",
        "colab_type": "code",
        "colab": {}
      },
      "source": [
        "# increase number of pooling layers\n",
        "\n",
        "model = Sequential()\n",
        "    \n",
        "model.add(InputLayer(input_shape=(224, 224, 3)))\n",
        "\n",
        "model.add(Conv2D(25, (5, 5), activation='relu', strides=(1, 1), padding='valid'))\n",
        "model.add(MaxPool2D(pool_size=(4, 4), padding='valid'))\n",
        "model.add(Conv2D(50, (5, 5), activation='relu', strides=(1, 1), padding='valid'))\n",
        "model.add(MaxPool2D(pool_size=(4, 4), padding='valid'))\n",
        "\n",
        "model.add(Flatten())\n",
        "\n",
        "model.add(Dense(units=100, activation='sigmoid'))\n",
        "model.add(Dense(units=1, activation='sigmoid'))\n",
        "\n",
        "# Compile the model\n",
        "model.compile(loss='binary_crossentropy', optimizer=\"sgd\", metrics=['accuracy'])"
      ],
      "execution_count": null,
      "outputs": []
    },
    {
      "cell_type": "code",
      "metadata": {
        "id": "PSkTXOTlXz8_",
        "colab_type": "code",
        "colab": {
          "base_uri": "https://localhost:8080/",
          "height": 408
        },
        "outputId": "cec48927-0c86-4df2-bb2b-3be3aaa3c307"
      },
      "source": [
        "model.summary()"
      ],
      "execution_count": null,
      "outputs": [
        {
          "output_type": "stream",
          "text": [
            "Model: \"sequential\"\n",
            "_________________________________________________________________\n",
            "Layer (type)                 Output Shape              Param #   \n",
            "=================================================================\n",
            "conv2d (Conv2D)              (None, 220, 220, 25)      1900      \n",
            "_________________________________________________________________\n",
            "max_pooling2d (MaxPooling2D) (None, 55, 55, 25)        0         \n",
            "_________________________________________________________________\n",
            "conv2d_1 (Conv2D)            (None, 51, 51, 50)        31300     \n",
            "_________________________________________________________________\n",
            "max_pooling2d_1 (MaxPooling2 (None, 12, 12, 50)        0         \n",
            "_________________________________________________________________\n",
            "flatten (Flatten)            (None, 7200)              0         \n",
            "_________________________________________________________________\n",
            "dense (Dense)                (None, 100)               720100    \n",
            "_________________________________________________________________\n",
            "dense_1 (Dense)              (None, 1)                 101       \n",
            "=================================================================\n",
            "Total params: 753,401\n",
            "Trainable params: 753,401\n",
            "Non-trainable params: 0\n",
            "_________________________________________________________________\n"
          ],
          "name": "stdout"
        }
      ]
    },
    {
      "cell_type": "code",
      "metadata": {
        "id": "8b80cjn4X3h9",
        "colab_type": "code",
        "colab": {
          "base_uri": "https://localhost:8080/",
          "height": 392
        },
        "outputId": "e8aee3f6-b9c3-4d02-d8c5-004e682b13b5"
      },
      "source": [
        "# training the model\n",
        "model_history = model.fit(X_train, y_train, epochs=10, batch_size=128,validation_data=(X_valid,y_valid))"
      ],
      "execution_count": null,
      "outputs": [
        {
          "output_type": "stream",
          "text": [
            "Epoch 1/10\n",
            "13/13 [==============================] - 4s 300ms/step - loss: 0.7365 - accuracy: 0.4423 - val_loss: 0.6901 - val_accuracy: 0.5397\n",
            "Epoch 2/10\n",
            "13/13 [==============================] - 2s 192ms/step - loss: 0.6804 - accuracy: 0.5838 - val_loss: 0.6888 - val_accuracy: 0.5609\n",
            "Epoch 3/10\n",
            "13/13 [==============================] - 2s 189ms/step - loss: 0.6773 - accuracy: 0.5851 - val_loss: 0.6890 - val_accuracy: 0.5609\n",
            "Epoch 4/10\n",
            "13/13 [==============================] - 3s 193ms/step - loss: 0.6767 - accuracy: 0.5863 - val_loss: 0.6860 - val_accuracy: 0.5609\n",
            "Epoch 5/10\n",
            "13/13 [==============================] - 2s 191ms/step - loss: 0.6753 - accuracy: 0.5857 - val_loss: 0.6852 - val_accuracy: 0.5609\n",
            "Epoch 6/10\n",
            "13/13 [==============================] - 3s 197ms/step - loss: 0.6741 - accuracy: 0.5863 - val_loss: 0.6832 - val_accuracy: 0.5609\n",
            "Epoch 7/10\n",
            "13/13 [==============================] - 2s 186ms/step - loss: 0.6731 - accuracy: 0.5857 - val_loss: 0.6816 - val_accuracy: 0.5609\n",
            "Epoch 8/10\n",
            "13/13 [==============================] - 2s 191ms/step - loss: 0.6716 - accuracy: 0.5857 - val_loss: 0.6802 - val_accuracy: 0.5609\n",
            "Epoch 9/10\n",
            "13/13 [==============================] - 3s 195ms/step - loss: 0.6705 - accuracy: 0.5863 - val_loss: 0.6796 - val_accuracy: 0.5609\n",
            "Epoch 10/10\n",
            "13/13 [==============================] - 2s 190ms/step - loss: 0.6694 - accuracy: 0.5863 - val_loss: 0.6776 - val_accuracy: 0.5609\n"
          ],
          "name": "stdout"
        }
      ]
    },
    {
      "cell_type": "code",
      "metadata": {
        "id": "8SdkjUqtYuC7",
        "colab_type": "code",
        "colab": {
          "base_uri": "https://localhost:8080/",
          "height": 108
        },
        "outputId": "bfdd5f37-52b9-41d2-a237-9fb6465f1259"
      },
      "source": [
        "# accuracy on training set\n",
        "print('Accuracy on training set:', accuracy_score(y_train, model.predict_classes(X_train)), '%')"
      ],
      "execution_count": null,
      "outputs": [
        {
          "output_type": "stream",
          "text": [
            "WARNING:tensorflow:From <ipython-input-20-7a755ec9f670>:2: Sequential.predict_classes (from tensorflow.python.keras.engine.sequential) is deprecated and will be removed after 2021-01-01.\n",
            "Instructions for updating:\n",
            "Please use instead:* `np.argmax(model.predict(x), axis=-1)`,   if your model does multi-class classification   (e.g. if it uses a `softmax` last-layer activation).* `(model.predict(x) > 0.5).astype(\"int32\")`,   if your model does binary classification   (e.g. if it uses a `sigmoid` last-layer activation).\n",
            "Accuracy on training set: 0.5856622114216282 %\n"
          ],
          "name": "stdout"
        }
      ]
    },
    {
      "cell_type": "code",
      "metadata": {
        "id": "ddQ4PhXsY2ho",
        "colab_type": "code",
        "colab": {
          "base_uri": "https://localhost:8080/",
          "height": 35
        },
        "outputId": "66cf1926-e38c-45b8-d3fc-119ac46eecda"
      },
      "source": [
        "# accuracy on validation set\n",
        "print('Accuracy on validation set:', accuracy_score(y_valid, model.predict_classes(X_valid)), '%')"
      ],
      "execution_count": null,
      "outputs": [
        {
          "output_type": "stream",
          "text": [
            "Accuracy on validation set: 0.5609065155807366 %\n"
          ],
          "name": "stdout"
        }
      ]
    },
    {
      "cell_type": "markdown",
      "metadata": {
        "id": "XszD0wMWY9y7",
        "colab_type": "text"
      },
      "source": [
        "# **3. 3 Increasing number of convolutional filters**"
      ]
    },
    {
      "cell_type": "code",
      "metadata": {
        "id": "DKQ9wkR3ZJRm",
        "colab_type": "code",
        "colab": {}
      },
      "source": [
        "# increase number of convolutional filters\n",
        "\n",
        "model = Sequential()\n",
        "    \n",
        "model.add(InputLayer(input_shape=(224, 224, 3)))\n",
        "\n",
        "model.add(Conv2D(50, (5, 5), activation='relu', strides=(1, 1), padding='valid'))\n",
        "model.add(Conv2D(75, (5, 5), activation='relu', strides=(1, 1), padding='valid'))\n",
        "model.add(MaxPool2D(pool_size=(4, 4), padding='valid'))\n",
        "\n",
        "model.add(Flatten())\n",
        "\n",
        "model.add(Dense(units=100, activation='sigmoid'))\n",
        "model.add(Dense(units=1, activation='sigmoid'))\n",
        "\n",
        "# Compile the model\n",
        "model.compile(loss='binary_crossentropy', optimizer=\"sgd\", metrics=['accuracy'])"
      ],
      "execution_count": null,
      "outputs": []
    },
    {
      "cell_type": "code",
      "metadata": {
        "id": "VD8dWsPpaXp6",
        "colab_type": "code",
        "colab": {
          "base_uri": "https://localhost:8080/",
          "height": 372
        },
        "outputId": "da0078e7-a26a-47cf-c56d-ce55c9ef713f"
      },
      "source": [
        "model.summary()"
      ],
      "execution_count": null,
      "outputs": [
        {
          "output_type": "stream",
          "text": [
            "Model: \"sequential_4\"\n",
            "_________________________________________________________________\n",
            "Layer (type)                 Output Shape              Param #   \n",
            "=================================================================\n",
            "conv2d_9 (Conv2D)            (None, 220, 220, 50)      3800      \n",
            "_________________________________________________________________\n",
            "conv2d_10 (Conv2D)           (None, 216, 216, 75)      93825     \n",
            "_________________________________________________________________\n",
            "max_pooling2d_2 (MaxPooling2 (None, 54, 54, 75)        0         \n",
            "_________________________________________________________________\n",
            "flatten_2 (Flatten)          (None, 218700)            0         \n",
            "_________________________________________________________________\n",
            "dense_4 (Dense)              (None, 100)               21870100  \n",
            "_________________________________________________________________\n",
            "dense_5 (Dense)              (None, 1)                 101       \n",
            "=================================================================\n",
            "Total params: 21,967,826\n",
            "Trainable params: 21,967,826\n",
            "Non-trainable params: 0\n",
            "_________________________________________________________________\n"
          ],
          "name": "stdout"
        }
      ]
    },
    {
      "cell_type": "code",
      "metadata": {
        "id": "Qixx-shEacEz",
        "colab_type": "code",
        "colab": {
          "base_uri": "https://localhost:8080/",
          "height": 410
        },
        "outputId": "83985529-16f9-4bde-9cc9-88a5ae0860ee"
      },
      "source": [
        "# training the model\n",
        "model_history = model.fit(X_train, y_train, epochs=10, batch_size=128,validation_data=(X_valid,y_valid))"
      ],
      "execution_count": null,
      "outputs": [
        {
          "output_type": "stream",
          "text": [
            "Epoch 1/10\n",
            " 2/13 [===>..........................] - ETA: 11s - loss: 0.7514 - accuracy: 0.4336WARNING:tensorflow:Callbacks method `on_train_batch_end` is slow compared to the batch time (batch time: 0.3545s vs `on_train_batch_end` time: 1.6494s). Check your callbacks.\n",
            "13/13 [==============================] - 37s 3s/step - loss: 0.6921 - accuracy: 0.5504 - val_loss: 0.6826 - val_accuracy: 0.5567\n",
            "Epoch 2/10\n",
            "13/13 [==============================] - 27s 2s/step - loss: 0.6697 - accuracy: 0.5893 - val_loss: 0.6711 - val_accuracy: 0.5652\n",
            "Epoch 3/10\n",
            "13/13 [==============================] - 27s 2s/step - loss: 0.6603 - accuracy: 0.5972 - val_loss: 0.6599 - val_accuracy: 0.5793\n",
            "Epoch 4/10\n",
            "13/13 [==============================] - 27s 2s/step - loss: 0.6501 - accuracy: 0.6233 - val_loss: 0.6526 - val_accuracy: 0.5807\n",
            "Epoch 5/10\n",
            "13/13 [==============================] - 27s 2s/step - loss: 0.6402 - accuracy: 0.6440 - val_loss: 0.6334 - val_accuracy: 0.6530\n",
            "Epoch 6/10\n",
            "13/13 [==============================] - 27s 2s/step - loss: 0.6281 - accuracy: 0.6549 - val_loss: 0.6197 - val_accuracy: 0.6983\n",
            "Epoch 7/10\n",
            "13/13 [==============================] - 27s 2s/step - loss: 0.6217 - accuracy: 0.6689 - val_loss: 0.6083 - val_accuracy: 0.6941\n",
            "Epoch 8/10\n",
            "13/13 [==============================] - 27s 2s/step - loss: 0.6126 - accuracy: 0.6774 - val_loss: 0.6010 - val_accuracy: 0.6870\n",
            "Epoch 9/10\n",
            "13/13 [==============================] - 27s 2s/step - loss: 0.5993 - accuracy: 0.6920 - val_loss: 0.5927 - val_accuracy: 0.6884\n",
            "Epoch 10/10\n",
            "13/13 [==============================] - 27s 2s/step - loss: 0.5935 - accuracy: 0.6859 - val_loss: 0.5835 - val_accuracy: 0.6926\n"
          ],
          "name": "stdout"
        }
      ]
    },
    {
      "cell_type": "code",
      "metadata": {
        "id": "4soKsRO2bwVh",
        "colab_type": "code",
        "colab": {
          "base_uri": "https://localhost:8080/",
          "height": 35
        },
        "outputId": "98c025c1-75c5-4729-d460-139e005516bf"
      },
      "source": [
        "# accuracy on training set\n",
        "print('Accuracy on training set:', accuracy_score(y_train, model.predict_classes(X_train)), '%')"
      ],
      "execution_count": null,
      "outputs": [
        {
          "output_type": "stream",
          "text": [
            "Accuracy on training set: 0.5996354799513973 %\n"
          ],
          "name": "stdout"
        }
      ]
    },
    {
      "cell_type": "code",
      "metadata": {
        "id": "bdQw1PiPb1jO",
        "colab_type": "code",
        "colab": {
          "base_uri": "https://localhost:8080/",
          "height": 35
        },
        "outputId": "6bb0372f-64fa-4038-b8b3-fbc03ec199d3"
      },
      "source": [
        "# accuracy on validation set\n",
        "print('Accuracy on validation set:', accuracy_score(y_valid, model.predict_classes(X_valid)), '%')"
      ],
      "execution_count": null,
      "outputs": [
        {
          "output_type": "stream",
          "text": [
            "Accuracy on validation set: 0.6331444759206799 %\n"
          ],
          "name": "stdout"
        }
      ]
    },
    {
      "cell_type": "markdown",
      "metadata": {
        "id": "Z8Leilx8APWt",
        "colab_type": "text"
      },
      "source": [
        "# **3. 4 Changing size of convolutional filters**"
      ]
    },
    {
      "cell_type": "code",
      "metadata": {
        "id": "lCjeopAvAYky",
        "colab_type": "code",
        "colab": {}
      },
      "source": [
        "# change filter size for convolutional layer\n",
        "\n",
        "model = Sequential()\n",
        "    \n",
        "model.add(InputLayer(input_shape=(224, 224, 3)))\n",
        "\n",
        "model.add(Conv2D(25, (3, 3), activation='relu', strides=(1, 1), padding='valid'))\n",
        "model.add(Conv2D(50, (3, 3), activation='relu', strides=(1, 1), padding='valid'))\n",
        "model.add(MaxPool2D(pool_size=(4, 4), padding='valid'))\n",
        "\n",
        "model.add(Flatten())\n",
        "\n",
        "model.add(Dense(units=100, activation='sigmoid'))\n",
        "model.add(Dense(units=1, activation='sigmoid'))\n",
        "\n",
        "model.compile(loss='binary_crossentropy', optimizer=\"sgd\", metrics=['accuracy'])"
      ],
      "execution_count": null,
      "outputs": []
    },
    {
      "cell_type": "code",
      "metadata": {
        "id": "h0kIiw5aAl8F",
        "colab_type": "code",
        "colab": {
          "base_uri": "https://localhost:8080/",
          "height": 372
        },
        "outputId": "2a9ca407-535e-4afe-e3c3-5977ab916712"
      },
      "source": [
        "model.summary()"
      ],
      "execution_count": null,
      "outputs": [
        {
          "output_type": "stream",
          "text": [
            "Model: \"sequential\"\n",
            "_________________________________________________________________\n",
            "Layer (type)                 Output Shape              Param #   \n",
            "=================================================================\n",
            "conv2d (Conv2D)              (None, 222, 222, 25)      700       \n",
            "_________________________________________________________________\n",
            "conv2d_1 (Conv2D)            (None, 220, 220, 50)      11300     \n",
            "_________________________________________________________________\n",
            "max_pooling2d (MaxPooling2D) (None, 55, 55, 50)        0         \n",
            "_________________________________________________________________\n",
            "flatten (Flatten)            (None, 151250)            0         \n",
            "_________________________________________________________________\n",
            "dense (Dense)                (None, 100)               15125100  \n",
            "_________________________________________________________________\n",
            "dense_1 (Dense)              (None, 1)                 101       \n",
            "=================================================================\n",
            "Total params: 15,137,201\n",
            "Trainable params: 15,137,201\n",
            "Non-trainable params: 0\n",
            "_________________________________________________________________\n"
          ],
          "name": "stdout"
        }
      ]
    },
    {
      "cell_type": "code",
      "metadata": {
        "id": "R2ZOZRwxApW2",
        "colab_type": "code",
        "colab": {
          "base_uri": "https://localhost:8080/",
          "height": 410
        },
        "outputId": "fd375307-4c3b-4708-db54-abaab2180e26"
      },
      "source": [
        "# training the model\n",
        "model_history = model.fit(X_train, y_train, epochs=10, batch_size=128,validation_data=(X_valid,y_valid))"
      ],
      "execution_count": null,
      "outputs": [
        {
          "output_type": "stream",
          "text": [
            "Epoch 1/10\n",
            " 2/13 [===>..........................] - ETA: 3s - loss: 0.7537 - accuracy: 0.3750WARNING:tensorflow:Callbacks method `on_train_batch_end` is slow compared to the batch time (batch time: 0.1639s vs `on_train_batch_end` time: 0.3827s). Check your callbacks.\n",
            "13/13 [==============================] - 12s 890ms/step - loss: 0.6889 - accuracy: 0.5492 - val_loss: 0.6791 - val_accuracy: 0.5581\n",
            "Epoch 2/10\n",
            "13/13 [==============================] - 8s 616ms/step - loss: 0.6663 - accuracy: 0.5899 - val_loss: 0.6734 - val_accuracy: 0.5623\n",
            "Epoch 3/10\n",
            "13/13 [==============================] - 8s 622ms/step - loss: 0.6544 - accuracy: 0.6094 - val_loss: 0.6758 - val_accuracy: 0.5609\n",
            "Epoch 4/10\n",
            "13/13 [==============================] - 8s 622ms/step - loss: 0.6472 - accuracy: 0.6106 - val_loss: 0.6512 - val_accuracy: 0.5892\n",
            "Epoch 5/10\n",
            "13/13 [==============================] - 8s 622ms/step - loss: 0.6373 - accuracy: 0.6373 - val_loss: 0.6379 - val_accuracy: 0.6303\n",
            "Epoch 6/10\n",
            "13/13 [==============================] - 8s 621ms/step - loss: 0.6253 - accuracy: 0.6616 - val_loss: 0.6251 - val_accuracy: 0.6643\n",
            "Epoch 7/10\n",
            "13/13 [==============================] - 8s 622ms/step - loss: 0.6166 - accuracy: 0.6823 - val_loss: 0.6144 - val_accuracy: 0.7054\n",
            "Epoch 8/10\n",
            "13/13 [==============================] - 8s 623ms/step - loss: 0.6054 - accuracy: 0.7072 - val_loss: 0.6128 - val_accuracy: 0.6700\n",
            "Epoch 9/10\n",
            "13/13 [==============================] - 8s 620ms/step - loss: 0.5983 - accuracy: 0.6981 - val_loss: 0.5972 - val_accuracy: 0.6983\n",
            "Epoch 10/10\n",
            "13/13 [==============================] - 8s 617ms/step - loss: 0.5912 - accuracy: 0.7096 - val_loss: 0.5976 - val_accuracy: 0.6841\n"
          ],
          "name": "stdout"
        }
      ]
    },
    {
      "cell_type": "code",
      "metadata": {
        "id": "4gWuJPLmBLVO",
        "colab_type": "code",
        "colab": {
          "base_uri": "https://localhost:8080/",
          "height": 108
        },
        "outputId": "cc95f1c6-68be-4bf9-8f03-8ce229880e71"
      },
      "source": [
        "# accuracy on training set\n",
        "print('Accuracy on training set:', accuracy_score(y_train, model.predict_classes(X_train)), '%')"
      ],
      "execution_count": null,
      "outputs": [
        {
          "output_type": "stream",
          "text": [
            "WARNING:tensorflow:From <ipython-input-18-7a755ec9f670>:2: Sequential.predict_classes (from tensorflow.python.keras.engine.sequential) is deprecated and will be removed after 2021-01-01.\n",
            "Instructions for updating:\n",
            "Please use instead:* `np.argmax(model.predict(x), axis=-1)`,   if your model does multi-class classification   (e.g. if it uses a `softmax` last-layer activation).* `(model.predict(x) > 0.5).astype(\"int32\")`,   if your model does binary classification   (e.g. if it uses a `sigmoid` last-layer activation).\n",
            "Accuracy on training set: 0.6992709599027946 %\n"
          ],
          "name": "stdout"
        }
      ]
    },
    {
      "cell_type": "code",
      "metadata": {
        "id": "PNrqFnVWBP-j",
        "colab_type": "code",
        "colab": {
          "base_uri": "https://localhost:8080/",
          "height": 35
        },
        "outputId": "510b82ab-44b8-4cf2-cf4b-e5a2a9aec41f"
      },
      "source": [
        "# accuracy on validation set\n",
        "print('Accuracy on validation set:', accuracy_score(y_valid, model.predict_classes(X_valid)), '%')"
      ],
      "execution_count": null,
      "outputs": [
        {
          "output_type": "stream",
          "text": [
            "Accuracy on validation set: 0.6841359773371105 %\n"
          ],
          "name": "stdout"
        }
      ]
    },
    {
      "cell_type": "markdown",
      "metadata": {
        "id": "h72y_CO4BckA",
        "colab_type": "text"
      },
      "source": [
        "# **3. 5 Changing pooling size**"
      ]
    },
    {
      "cell_type": "code",
      "metadata": {
        "id": "BDYl-UW1Bjgr",
        "colab_type": "code",
        "colab": {}
      },
      "source": [
        "# change pooling size\n",
        "\n",
        "model = Sequential()\n",
        "    \n",
        "model.add(InputLayer(input_shape=(224, 224, 3)))\n",
        "\n",
        "model.add(Conv2D(25, (5, 5), activation='relu', strides=(1, 1), padding='valid'))\n",
        "model.add(Conv2D(50, (5, 5), activation='relu', strides=(1, 1), padding='valid'))\n",
        "model.add(MaxPool2D(pool_size=(2, 2), padding='valid'))\n",
        "\n",
        "model.add(Flatten())\n",
        "\n",
        "model.add(Dense(units=100, activation='sigmoid'))\n",
        "model.add(Dense(units=1, activation='sigmoid'))\n",
        "\n",
        "model.compile(loss='binary_crossentropy', optimizer=\"sgd\", metrics=['accuracy'])"
      ],
      "execution_count": null,
      "outputs": []
    },
    {
      "cell_type": "code",
      "metadata": {
        "id": "3_GxEyMqBrUp",
        "colab_type": "code",
        "colab": {
          "base_uri": "https://localhost:8080/",
          "height": 372
        },
        "outputId": "eb6744c2-845a-437b-b8d0-03954563bfbc"
      },
      "source": [
        "model.summary()"
      ],
      "execution_count": null,
      "outputs": [
        {
          "output_type": "stream",
          "text": [
            "Model: \"sequential_1\"\n",
            "_________________________________________________________________\n",
            "Layer (type)                 Output Shape              Param #   \n",
            "=================================================================\n",
            "conv2d_2 (Conv2D)            (None, 220, 220, 25)      1900      \n",
            "_________________________________________________________________\n",
            "conv2d_3 (Conv2D)            (None, 216, 216, 50)      31300     \n",
            "_________________________________________________________________\n",
            "max_pooling2d_1 (MaxPooling2 (None, 108, 108, 50)      0         \n",
            "_________________________________________________________________\n",
            "flatten_1 (Flatten)          (None, 583200)            0         \n",
            "_________________________________________________________________\n",
            "dense_2 (Dense)              (None, 100)               58320100  \n",
            "_________________________________________________________________\n",
            "dense_3 (Dense)              (None, 1)                 101       \n",
            "=================================================================\n",
            "Total params: 58,353,401\n",
            "Trainable params: 58,353,401\n",
            "Non-trainable params: 0\n",
            "_________________________________________________________________\n"
          ],
          "name": "stdout"
        }
      ]
    },
    {
      "cell_type": "code",
      "metadata": {
        "id": "YLkkFSqVBvK4",
        "colab_type": "code",
        "colab": {
          "base_uri": "https://localhost:8080/",
          "height": 410
        },
        "outputId": "af6a3308-36e5-451d-eba0-bca206fc7cf0"
      },
      "source": [
        "# training the model\n",
        "model_history = model.fit(X_train, y_train, epochs=10, batch_size=128,validation_data=(X_valid,y_valid))"
      ],
      "execution_count": null,
      "outputs": [
        {
          "output_type": "stream",
          "text": [
            "Epoch 1/10\n",
            " 2/13 [===>..........................] - ETA: 5s - loss: 0.6870 - accuracy: 0.5703WARNING:tensorflow:Callbacks method `on_train_batch_end` is slow compared to the batch time (batch time: 0.2161s vs `on_train_batch_end` time: 0.7194s). Check your callbacks.\n",
            "13/13 [==============================] - 18s 1s/step - loss: 0.6878 - accuracy: 0.5857 - val_loss: 0.6518 - val_accuracy: 0.6275\n",
            "Epoch 2/10\n",
            "13/13 [==============================] - 13s 996ms/step - loss: 0.6478 - accuracy: 0.6148 - val_loss: 0.6333 - val_accuracy: 0.6501\n",
            "Epoch 3/10\n",
            "13/13 [==============================] - 13s 998ms/step - loss: 0.6293 - accuracy: 0.6513 - val_loss: 0.6143 - val_accuracy: 0.6785\n",
            "Epoch 4/10\n",
            "13/13 [==============================] - 13s 1s/step - loss: 0.6124 - accuracy: 0.6628 - val_loss: 0.6382 - val_accuracy: 0.6204\n",
            "Epoch 5/10\n",
            "13/13 [==============================] - 13s 999ms/step - loss: 0.6289 - accuracy: 0.6428 - val_loss: 0.6432 - val_accuracy: 0.6190\n",
            "Epoch 6/10\n",
            "13/13 [==============================] - 13s 1s/step - loss: 0.5979 - accuracy: 0.6853 - val_loss: 0.5905 - val_accuracy: 0.6898\n",
            "Epoch 7/10\n",
            "13/13 [==============================] - 13s 1s/step - loss: 0.5779 - accuracy: 0.7029 - val_loss: 0.5917 - val_accuracy: 0.6884\n",
            "Epoch 8/10\n",
            "13/13 [==============================] - 13s 1s/step - loss: 0.5948 - accuracy: 0.6871 - val_loss: 0.6149 - val_accuracy: 0.6558\n",
            "Epoch 9/10\n",
            "13/13 [==============================] - 13s 1s/step - loss: 0.5746 - accuracy: 0.7084 - val_loss: 0.5805 - val_accuracy: 0.6926\n",
            "Epoch 10/10\n",
            "13/13 [==============================] - 13s 1s/step - loss: 0.5644 - accuracy: 0.7230 - val_loss: 0.5681 - val_accuracy: 0.7040\n"
          ],
          "name": "stdout"
        }
      ]
    },
    {
      "cell_type": "code",
      "metadata": {
        "id": "GnrfJFyBCZJO",
        "colab_type": "code",
        "colab": {
          "base_uri": "https://localhost:8080/",
          "height": 35
        },
        "outputId": "85eb056d-9da4-4837-91cd-d1410b4b9476"
      },
      "source": [
        "# accuracy on training set\n",
        "print('Accuracy on training set:', accuracy_score(y_train, model.predict_classes(X_train)), '%')"
      ],
      "execution_count": null,
      "outputs": [
        {
          "output_type": "stream",
          "text": [
            "Accuracy on training set: 0.7223572296476306 %\n"
          ],
          "name": "stdout"
        }
      ]
    },
    {
      "cell_type": "code",
      "metadata": {
        "id": "Ku4EmqhPCc-5",
        "colab_type": "code",
        "colab": {
          "base_uri": "https://localhost:8080/",
          "height": 35
        },
        "outputId": "a863b9aa-11b9-409b-ae7a-7fa1d4f3a3bf"
      },
      "source": [
        "# accuracy on validation set\n",
        "print('Accuracy on validation set:', accuracy_score(y_valid, model.predict_classes(X_valid)), '%')"
      ],
      "execution_count": null,
      "outputs": [
        {
          "output_type": "stream",
          "text": [
            "Accuracy on validation set: 0.7039660056657224 %\n"
          ],
          "name": "stdout"
        }
      ]
    },
    {
      "cell_type": "markdown",
      "metadata": {
        "id": "5iAMen4RCrst",
        "colab_type": "text"
      },
      "source": [
        "# **3. 6 Changing padding technique**"
      ]
    },
    {
      "cell_type": "code",
      "metadata": {
        "id": "sTBuQJt3Cvg_",
        "colab_type": "code",
        "colab": {}
      },
      "source": [
        "# change padding technique\n",
        "\n",
        "model = Sequential()\n",
        "    \n",
        "model.add(InputLayer(input_shape=(224, 224, 3)))\n",
        "\n",
        "model.add(Conv2D(25, (5, 5), activation='relu', strides=(1, 1), padding='same'))\n",
        "model.add(Conv2D(50, (5, 5), activation='relu', strides=(1, 1), padding='same'))\n",
        "model.add(MaxPool2D(pool_size=(4, 4), padding='valid'))\n",
        "\n",
        "model.add(Flatten())\n",
        "\n",
        "model.add(Dense(units=100, activation='sigmoid'))\n",
        "model.add(Dense(units=1, activation='sigmoid'))\n",
        "\n",
        "model.compile(loss='binary_crossentropy', optimizer=\"sgd\", metrics=['accuracy'])"
      ],
      "execution_count": null,
      "outputs": []
    },
    {
      "cell_type": "code",
      "metadata": {
        "id": "4rAYlRPsDXty",
        "colab_type": "code",
        "colab": {
          "base_uri": "https://localhost:8080/",
          "height": 372
        },
        "outputId": "ee7954b0-0ac4-4402-c6bc-41113e3216e7"
      },
      "source": [
        "model.summary()"
      ],
      "execution_count": null,
      "outputs": [
        {
          "output_type": "stream",
          "text": [
            "Model: \"sequential_2\"\n",
            "_________________________________________________________________\n",
            "Layer (type)                 Output Shape              Param #   \n",
            "=================================================================\n",
            "conv2d_4 (Conv2D)            (None, 224, 224, 25)      1900      \n",
            "_________________________________________________________________\n",
            "conv2d_5 (Conv2D)            (None, 224, 224, 50)      31300     \n",
            "_________________________________________________________________\n",
            "max_pooling2d_2 (MaxPooling2 (None, 56, 56, 50)        0         \n",
            "_________________________________________________________________\n",
            "flatten_2 (Flatten)          (None, 156800)            0         \n",
            "_________________________________________________________________\n",
            "dense_4 (Dense)              (None, 100)               15680100  \n",
            "_________________________________________________________________\n",
            "dense_5 (Dense)              (None, 1)                 101       \n",
            "=================================================================\n",
            "Total params: 15,713,401\n",
            "Trainable params: 15,713,401\n",
            "Non-trainable params: 0\n",
            "_________________________________________________________________\n"
          ],
          "name": "stdout"
        }
      ]
    },
    {
      "cell_type": "code",
      "metadata": {
        "id": "jzj9f7cnOjpb",
        "colab_type": "code",
        "colab": {
          "base_uri": "https://localhost:8080/",
          "height": 410
        },
        "outputId": "46262826-d420-4e28-9fbe-6931cbdbad65"
      },
      "source": [
        "# training the model\n",
        "model_history = model.fit(X_train, y_train, epochs=10, batch_size=128,validation_data=(X_valid,y_valid))"
      ],
      "execution_count": null,
      "outputs": [
        {
          "output_type": "stream",
          "text": [
            "Epoch 1/10\n",
            " 2/13 [===>..........................] - ETA: 8s - loss: 0.6729 - accuracy: 0.5977WARNING:tensorflow:Callbacks method `on_train_batch_end` is slow compared to the batch time (batch time: 0.1725s vs `on_train_batch_end` time: 0.7002s). Check your callbacks.\n",
            "13/13 [==============================] - 13s 1s/step - loss: 0.6717 - accuracy: 0.5893 - val_loss: 0.6750 - val_accuracy: 0.5609\n",
            "Epoch 2/10\n",
            "13/13 [==============================] - 12s 948ms/step - loss: 0.6567 - accuracy: 0.6130 - val_loss: 0.6507 - val_accuracy: 0.5907\n",
            "Epoch 3/10\n",
            "13/13 [==============================] - 12s 947ms/step - loss: 0.6474 - accuracy: 0.6330 - val_loss: 0.6318 - val_accuracy: 0.6615\n",
            "Epoch 4/10\n",
            "13/13 [==============================] - 12s 937ms/step - loss: 0.6262 - accuracy: 0.6622 - val_loss: 0.6184 - val_accuracy: 0.6700\n",
            "Epoch 5/10\n",
            "13/13 [==============================] - 12s 947ms/step - loss: 0.6122 - accuracy: 0.6738 - val_loss: 0.6025 - val_accuracy: 0.6941\n",
            "Epoch 6/10\n",
            "13/13 [==============================] - 12s 948ms/step - loss: 0.6124 - accuracy: 0.6810 - val_loss: 0.5936 - val_accuracy: 0.7011\n",
            "Epoch 7/10\n",
            "13/13 [==============================] - 12s 947ms/step - loss: 0.6237 - accuracy: 0.6574 - val_loss: 0.5960 - val_accuracy: 0.6955\n",
            "Epoch 8/10\n",
            "13/13 [==============================] - 12s 942ms/step - loss: 0.5930 - accuracy: 0.6926 - val_loss: 0.5792 - val_accuracy: 0.7139\n",
            "Epoch 9/10\n",
            "13/13 [==============================] - 12s 947ms/step - loss: 0.6012 - accuracy: 0.6659 - val_loss: 0.5770 - val_accuracy: 0.7139\n",
            "Epoch 10/10\n",
            "13/13 [==============================] - 12s 953ms/step - loss: 0.5767 - accuracy: 0.7284 - val_loss: 0.5767 - val_accuracy: 0.7025\n"
          ],
          "name": "stdout"
        }
      ]
    },
    {
      "cell_type": "code",
      "metadata": {
        "id": "zTGd5RYJQegb",
        "colab_type": "code",
        "colab": {
          "base_uri": "https://localhost:8080/",
          "height": 35
        },
        "outputId": "e35266cd-3e72-4c3b-bf17-a421ab4252d5"
      },
      "source": [
        "# accuracy on training set\n",
        "print('Accuracy on training set:', accuracy_score(y_train, model.predict_classes(X_train)), '%')"
      ],
      "execution_count": null,
      "outputs": [
        {
          "output_type": "stream",
          "text": [
            "Accuracy on training set: 0.7174969623329283 %\n"
          ],
          "name": "stdout"
        }
      ]
    },
    {
      "cell_type": "code",
      "metadata": {
        "id": "oI0aHIoIQnEa",
        "colab_type": "code",
        "colab": {
          "base_uri": "https://localhost:8080/",
          "height": 35
        },
        "outputId": "20161e1a-4cc4-4157-d3f1-8750c5aa4bef"
      },
      "source": [
        "# accuracy on validation set\n",
        "print('Accuracy on validation set:', accuracy_score(y_valid, model.predict_classes(X_valid)), '%')"
      ],
      "execution_count": null,
      "outputs": [
        {
          "output_type": "stream",
          "text": [
            "Accuracy on validation set: 0.7025495750708215 %\n"
          ],
          "name": "stdout"
        }
      ]
    },
    {
      "cell_type": "markdown",
      "metadata": {
        "id": "bxi5M4YID70O",
        "colab_type": "text"
      },
      "source": [
        "# **3. 7 Changing stride**"
      ]
    },
    {
      "cell_type": "code",
      "metadata": {
        "id": "MgWYU2DZE3Za",
        "colab_type": "code",
        "colab": {}
      },
      "source": [
        "# Normalize the pixel values\n",
        "X = X / X.max()"
      ],
      "execution_count": 22,
      "outputs": []
    },
    {
      "cell_type": "code",
      "metadata": {
        "id": "2seY4kGQE7ux",
        "colab_type": "code",
        "colab": {
          "base_uri": "https://localhost:8080/",
          "height": 35
        },
        "outputId": "6d925717-0392-4f3e-baf1-2348edde8474"
      },
      "source": [
        "# minimum and maximum pixel value of images after normalize\n",
        "X.min(), X.max()"
      ],
      "execution_count": 23,
      "outputs": [
        {
          "output_type": "execute_result",
          "data": {
            "text/plain": [
              "(0.0, 1.0)"
            ]
          },
          "metadata": {
            "tags": []
          },
          "execution_count": 23
        }
      ]
    },
    {
      "cell_type": "code",
      "metadata": {
        "id": "Www4uTJsFWRk",
        "colab_type": "code",
        "colab": {}
      },
      "source": [
        "# Creating training and validation set\n",
        "X_train, X_valid, y_train, y_valid = train_test_split(X,y, test_size = 0.3, random_state= seed)"
      ],
      "execution_count": 24,
      "outputs": []
    },
    {
      "cell_type": "code",
      "metadata": {
        "id": "M-23qHRrFax-",
        "colab_type": "code",
        "colab": {
          "base_uri": "https://localhost:8080/",
          "height": 35
        },
        "outputId": "09694e64-bb5c-40ff-86ec-5887af31f8f7"
      },
      "source": [
        "# Shape of training and validation set\n",
        "(X_train.shape, y_train.shape), (X_valid.shape, y_valid.shape)"
      ],
      "execution_count": 25,
      "outputs": [
        {
          "output_type": "execute_result",
          "data": {
            "text/plain": [
              "(((1646, 224, 224, 3), (1646,)), ((706, 224, 224, 3), (706,)))"
            ]
          },
          "metadata": {
            "tags": []
          },
          "execution_count": 25
        }
      ]
    },
    {
      "cell_type": "code",
      "metadata": {
        "id": "oTXzORm7EB6k",
        "colab_type": "code",
        "colab": {}
      },
      "source": [
        "# changing stride\n",
        "\n",
        "model = Sequential()\n",
        "    \n",
        "model.add(InputLayer(input_shape=(224, 224, 3)))\n",
        "\n",
        "model.add(Conv2D(25, (5, 5), activation='relu', strides=(2, 2), padding='valid'))\n",
        "model.add(Conv2D(50, (5, 5), activation='relu', strides=(1, 1), padding='valid'))\n",
        "model.add(MaxPool2D(pool_size=(4, 4), padding='valid'))\n",
        "\n",
        "model.add(Flatten())\n",
        "\n",
        "model.add(Dense(units=100, activation='sigmoid'))\n",
        "model.add(Dense(units=1, activation='sigmoid'))\n",
        "\n",
        "model.compile(loss='binary_crossentropy', optimizer=\"sgd\", metrics=['accuracy'])"
      ],
      "execution_count": 26,
      "outputs": []
    },
    {
      "cell_type": "code",
      "metadata": {
        "id": "kZXrzSrEES8v",
        "colab_type": "code",
        "colab": {
          "base_uri": "https://localhost:8080/",
          "height": 372
        },
        "outputId": "042c6774-2374-4a3f-c8f3-537a142aa378"
      },
      "source": [
        "model.summary()"
      ],
      "execution_count": 27,
      "outputs": [
        {
          "output_type": "stream",
          "text": [
            "Model: \"sequential_2\"\n",
            "_________________________________________________________________\n",
            "Layer (type)                 Output Shape              Param #   \n",
            "=================================================================\n",
            "conv2d_4 (Conv2D)            (None, 110, 110, 25)      1900      \n",
            "_________________________________________________________________\n",
            "conv2d_5 (Conv2D)            (None, 106, 106, 50)      31300     \n",
            "_________________________________________________________________\n",
            "max_pooling2d_2 (MaxPooling2 (None, 26, 26, 50)        0         \n",
            "_________________________________________________________________\n",
            "flatten_2 (Flatten)          (None, 33800)             0         \n",
            "_________________________________________________________________\n",
            "dense_4 (Dense)              (None, 100)               3380100   \n",
            "_________________________________________________________________\n",
            "dense_5 (Dense)              (None, 1)                 101       \n",
            "=================================================================\n",
            "Total params: 3,413,401\n",
            "Trainable params: 3,413,401\n",
            "Non-trainable params: 0\n",
            "_________________________________________________________________\n"
          ],
          "name": "stdout"
        }
      ]
    },
    {
      "cell_type": "code",
      "metadata": {
        "id": "URTqK06eEcOu",
        "colab_type": "code",
        "colab": {
          "base_uri": "https://localhost:8080/",
          "height": 392
        },
        "outputId": "f14b4718-d2e9-44ed-aaa9-bac99e2c6b02"
      },
      "source": [
        "# training the model\n",
        "model_history = model.fit(X_train, y_train, epochs=10, batch_size=128,validation_data=(X_valid,y_valid))"
      ],
      "execution_count": 28,
      "outputs": [
        {
          "output_type": "stream",
          "text": [
            "Epoch 1/10\n",
            "13/13 [==============================] - 2s 180ms/step - loss: 0.7024 - accuracy: 0.5863 - val_loss: 0.6786 - val_accuracy: 0.5595\n",
            "Epoch 2/10\n",
            "13/13 [==============================] - 2s 123ms/step - loss: 0.6713 - accuracy: 0.5838 - val_loss: 0.6800 - val_accuracy: 0.5609\n",
            "Epoch 3/10\n",
            "13/13 [==============================] - 2s 123ms/step - loss: 0.6695 - accuracy: 0.5851 - val_loss: 0.6721 - val_accuracy: 0.5595\n",
            "Epoch 4/10\n",
            "13/13 [==============================] - 2s 123ms/step - loss: 0.6662 - accuracy: 0.5838 - val_loss: 0.6674 - val_accuracy: 0.5567\n",
            "Epoch 5/10\n",
            "13/13 [==============================] - 2s 125ms/step - loss: 0.6640 - accuracy: 0.5851 - val_loss: 0.6647 - val_accuracy: 0.5595\n",
            "Epoch 6/10\n",
            "13/13 [==============================] - 2s 120ms/step - loss: 0.6609 - accuracy: 0.5863 - val_loss: 0.6602 - val_accuracy: 0.6105\n",
            "Epoch 7/10\n",
            "13/13 [==============================] - 2s 124ms/step - loss: 0.6586 - accuracy: 0.5911 - val_loss: 0.6564 - val_accuracy: 0.6317\n",
            "Epoch 8/10\n",
            "13/13 [==============================] - 2s 124ms/step - loss: 0.6555 - accuracy: 0.6051 - val_loss: 0.6527 - val_accuracy: 0.6062\n",
            "Epoch 9/10\n",
            "13/13 [==============================] - 2s 123ms/step - loss: 0.6514 - accuracy: 0.6136 - val_loss: 0.6521 - val_accuracy: 0.5793\n",
            "Epoch 10/10\n",
            "13/13 [==============================] - 2s 120ms/step - loss: 0.6461 - accuracy: 0.6239 - val_loss: 0.6445 - val_accuracy: 0.6218\n"
          ],
          "name": "stdout"
        }
      ]
    },
    {
      "cell_type": "code",
      "metadata": {
        "id": "9cRiJIuLEpi9",
        "colab_type": "code",
        "colab": {
          "base_uri": "https://localhost:8080/",
          "height": 35
        },
        "outputId": "42512fa1-19e8-4ee5-e922-07caa0f690c7"
      },
      "source": [
        "# accuracy on training set\n",
        "print('Accuracy on training set:', accuracy_score(y_train, model.predict_classes(X_train)), '%')"
      ],
      "execution_count": 29,
      "outputs": [
        {
          "output_type": "stream",
          "text": [
            "Accuracy on training set: 0.6312272174969623 %\n"
          ],
          "name": "stdout"
        }
      ]
    },
    {
      "cell_type": "code",
      "metadata": {
        "id": "InwH4-LKEwQU",
        "colab_type": "code",
        "colab": {
          "base_uri": "https://localhost:8080/",
          "height": 35
        },
        "outputId": "c68bb04b-fcc8-4d17-dda8-244cd01a9b4d"
      },
      "source": [
        "# accuracy on validation set\n",
        "print('Accuracy on validation set:', accuracy_score(y_valid, model.predict_classes(X_valid)), '%')"
      ],
      "execution_count": 30,
      "outputs": [
        {
          "output_type": "stream",
          "text": [
            "Accuracy on validation set: 0.6218130311614731 %\n"
          ],
          "name": "stdout"
        }
      ]
    },
    {
      "cell_type": "markdown",
      "metadata": {
        "id": "bVtJd5rwGFcW",
        "colab_type": "text"
      },
      "source": [
        "# **4. Combining Hyperparameter tuning**"
      ]
    },
    {
      "cell_type": "code",
      "metadata": {
        "id": "dTN_HdnZG7p0",
        "colab_type": "code",
        "colab": {}
      },
      "source": [
        "# importing layers from keras\n",
        "from keras.layers import Dense, InputLayer, BatchNormalization, Dropout"
      ],
      "execution_count": 34,
      "outputs": []
    },
    {
      "cell_type": "code",
      "metadata": {
        "id": "KkoBD_h2GLCI",
        "colab_type": "code",
        "colab": {}
      },
      "source": [
        "# defining the model architecture with maxpool layer\n",
        "\n",
        "model = Sequential()\n",
        "    \n",
        "model.add(InputLayer(input_shape=(224, 224, 3)))\n",
        "\n",
        "model.add(Conv2D(50, (5, 5), activation='relu', strides=(1, 1), padding='valid'))\n",
        "model.add(MaxPool2D(pool_size=(2, 2), padding='valid'))\n",
        "model.add(Conv2D(50, (5, 5), activation='relu', strides=(1, 1), padding='valid'))\n",
        "model.add(MaxPool2D(pool_size=(4, 4), padding='valid'))\n",
        "\n",
        "model.add(Flatten())\n",
        "\n",
        "model.add(Dense(units=100, activation='relu'))\n",
        "model.add(BatchNormalization())\n",
        "model.add(Dropout(rate=0.6))\n",
        "model.add(Dense(units=100, activation='relu'))\n",
        "model.add(BatchNormalization())\n",
        "model.add(Dropout(rate=0.6))\n",
        "model.add(Dense(units=1, activation='sigmoid'))\n",
        "\n",
        "# compiling the model\n",
        "model.compile(loss='binary_crossentropy', optimizer=\"adam\", metrics=['accuracy'])"
      ],
      "execution_count": 35,
      "outputs": []
    },
    {
      "cell_type": "code",
      "metadata": {
        "id": "c7LTE8dMHWMx",
        "colab_type": "code",
        "colab": {
          "base_uri": "https://localhost:8080/",
          "height": 586
        },
        "outputId": "86e4549c-a68d-486f-8edd-981a95179d32"
      },
      "source": [
        "model.summary()"
      ],
      "execution_count": 36,
      "outputs": [
        {
          "output_type": "stream",
          "text": [
            "Model: \"sequential_5\"\n",
            "_________________________________________________________________\n",
            "Layer (type)                 Output Shape              Param #   \n",
            "=================================================================\n",
            "conv2d_10 (Conv2D)           (None, 220, 220, 50)      3800      \n",
            "_________________________________________________________________\n",
            "max_pooling2d_7 (MaxPooling2 (None, 110, 110, 50)      0         \n",
            "_________________________________________________________________\n",
            "conv2d_11 (Conv2D)           (None, 106, 106, 50)      62550     \n",
            "_________________________________________________________________\n",
            "max_pooling2d_8 (MaxPooling2 (None, 26, 26, 50)        0         \n",
            "_________________________________________________________________\n",
            "flatten_5 (Flatten)          (None, 33800)             0         \n",
            "_________________________________________________________________\n",
            "dense_8 (Dense)              (None, 100)               3380100   \n",
            "_________________________________________________________________\n",
            "batch_normalization_1 (Batch (None, 100)               400       \n",
            "_________________________________________________________________\n",
            "dropout (Dropout)            (None, 100)               0         \n",
            "_________________________________________________________________\n",
            "dense_9 (Dense)              (None, 100)               10100     \n",
            "_________________________________________________________________\n",
            "batch_normalization_2 (Batch (None, 100)               400       \n",
            "_________________________________________________________________\n",
            "dropout_1 (Dropout)          (None, 100)               0         \n",
            "_________________________________________________________________\n",
            "dense_10 (Dense)             (None, 1)                 101       \n",
            "=================================================================\n",
            "Total params: 3,457,451\n",
            "Trainable params: 3,457,051\n",
            "Non-trainable params: 400\n",
            "_________________________________________________________________\n"
          ],
          "name": "stdout"
        }
      ]
    },
    {
      "cell_type": "code",
      "metadata": {
        "id": "bX2z_xPQHf2E",
        "colab_type": "code",
        "colab": {
          "base_uri": "https://localhost:8080/",
          "height": 1000
        },
        "outputId": "c773441c-f20b-4978-ff01-5d4bd40747b5"
      },
      "source": [
        "# training the model for 100 epochs\n",
        "model_history = model.fit(X_train, y_train, epochs=100, batch_size=128,validation_data=(X_valid,y_valid))"
      ],
      "execution_count": 37,
      "outputs": [
        {
          "output_type": "stream",
          "text": [
            "Epoch 1/100\n",
            " 2/13 [===>..........................] - ETA: 1s - loss: 0.9413 - accuracy: 0.5781WARNING:tensorflow:Callbacks method `on_train_batch_end` is slow compared to the batch time (batch time: 0.0668s vs `on_train_batch_end` time: 0.1330s). Check your callbacks.\n",
            "13/13 [==============================] - 5s 369ms/step - loss: 0.8702 - accuracy: 0.5990 - val_loss: 0.6125 - val_accuracy: 0.6771\n",
            "Epoch 2/100\n",
            "13/13 [==============================] - 3s 230ms/step - loss: 0.6832 - accuracy: 0.7084 - val_loss: 0.6249 - val_accuracy: 0.7011\n",
            "Epoch 3/100\n",
            "13/13 [==============================] - 3s 232ms/step - loss: 0.5977 - accuracy: 0.7296 - val_loss: 0.4725 - val_accuracy: 0.7677\n",
            "Epoch 4/100\n",
            "13/13 [==============================] - 3s 227ms/step - loss: 0.5344 - accuracy: 0.7625 - val_loss: 0.4767 - val_accuracy: 0.7819\n",
            "Epoch 5/100\n",
            "13/13 [==============================] - 3s 232ms/step - loss: 0.4705 - accuracy: 0.7843 - val_loss: 0.4441 - val_accuracy: 0.8144\n",
            "Epoch 6/100\n",
            "13/13 [==============================] - 3s 230ms/step - loss: 0.4239 - accuracy: 0.8171 - val_loss: 0.5591 - val_accuracy: 0.7252\n",
            "Epoch 7/100\n",
            "13/13 [==============================] - 3s 231ms/step - loss: 0.3799 - accuracy: 0.8378 - val_loss: 0.3908 - val_accuracy: 0.8201\n",
            "Epoch 8/100\n",
            "13/13 [==============================] - 3s 229ms/step - loss: 0.2995 - accuracy: 0.8748 - val_loss: 0.8824 - val_accuracy: 0.6034\n",
            "Epoch 9/100\n",
            "13/13 [==============================] - 3s 231ms/step - loss: 0.2658 - accuracy: 0.8888 - val_loss: 0.7375 - val_accuracy: 0.6785\n",
            "Epoch 10/100\n",
            "13/13 [==============================] - 3s 227ms/step - loss: 0.2301 - accuracy: 0.9107 - val_loss: 0.3947 - val_accuracy: 0.8329\n",
            "Epoch 11/100\n",
            "13/13 [==============================] - 3s 231ms/step - loss: 0.2109 - accuracy: 0.9113 - val_loss: 0.7223 - val_accuracy: 0.7266\n",
            "Epoch 12/100\n",
            "13/13 [==============================] - 3s 230ms/step - loss: 0.2333 - accuracy: 0.9162 - val_loss: 0.3934 - val_accuracy: 0.8428\n",
            "Epoch 13/100\n",
            "13/13 [==============================] - 3s 229ms/step - loss: 0.1825 - accuracy: 0.9265 - val_loss: 1.9250 - val_accuracy: 0.6006\n",
            "13/13 [==============================] - 3s 231ms/step - loss: 0.1006 - accuracy: 0.9623 - val_loss: 0.6538 - val_accuracy: 0.7847\n",
            "Epoch 18/100\n",
            "13/13 [==============================] - 3s 232ms/step - loss: 0.0788 - accuracy: 0.9739 - val_loss: 0.4658 - val_accuracy: 0.8357\n",
            "Epoch 19/100\n",
            "13/13 [==============================] - 3s 230ms/step - loss: 0.0641 - accuracy: 0.9781 - val_loss: 0.5503 - val_accuracy: 0.8329\n",
            "Epoch 20/100\n",
            "13/13 [==============================] - 3s 236ms/step - loss: 0.0581 - accuracy: 0.9812 - val_loss: 0.7250 - val_accuracy: 0.7890\n",
            "Epoch 21/100\n",
            "13/13 [==============================] - 3s 231ms/step - loss: 0.0506 - accuracy: 0.9842 - val_loss: 1.1285 - val_accuracy: 0.7380\n",
            "Epoch 22/100\n",
            "13/13 [==============================] - 3s 232ms/step - loss: 0.0467 - accuracy: 0.9854 - val_loss: 0.5225 - val_accuracy: 0.8414\n",
            "Epoch 23/100\n",
            "13/13 [==============================] - 3s 230ms/step - loss: 0.0429 - accuracy: 0.9885 - val_loss: 1.2213 - val_accuracy: 0.6912\n",
            "Epoch 24/100\n",
            "13/13 [==============================] - 3s 230ms/step - loss: 0.0522 - accuracy: 0.9854 - val_loss: 0.5381 - val_accuracy: 0.8286\n",
            "Epoch 25/100\n",
            "13/13 [==============================] - 3s 232ms/step - loss: 0.0541 - accuracy: 0.9872 - val_loss: 0.5120 - val_accuracy: 0.8399\n",
            "Epoch 26/100\n",
            "13/13 [==============================] - 3s 230ms/step - loss: 0.0481 - accuracy: 0.9885 - val_loss: 1.3695 - val_accuracy: 0.7337\n",
            "Epoch 27/100\n",
            "13/13 [==============================] - 3s 232ms/step - loss: 0.0416 - accuracy: 0.9878 - val_loss: 0.6882 - val_accuracy: 0.8244\n",
            "Epoch 28/100\n",
            "13/13 [==============================] - 3s 233ms/step - loss: 0.0278 - accuracy: 0.9933 - val_loss: 0.5686 - val_accuracy: 0.8371\n",
            "Epoch 29/100\n",
            "13/13 [==============================] - 3s 234ms/step - loss: 0.0270 - accuracy: 0.9921 - val_loss: 1.0212 - val_accuracy: 0.7805\n",
            "Epoch 30/100\n",
            "13/13 [==============================] - 3s 235ms/step - loss: 0.0369 - accuracy: 0.9927 - val_loss: 0.5691 - val_accuracy: 0.8428\n",
            "Epoch 31/100\n",
            "13/13 [==============================] - 3s 233ms/step - loss: 0.0289 - accuracy: 0.9921 - val_loss: 0.6074 - val_accuracy: 0.8385\n",
            "Epoch 32/100\n",
            "13/13 [==============================] - 3s 235ms/step - loss: 0.0265 - accuracy: 0.9915 - val_loss: 1.0111 - val_accuracy: 0.7663\n",
            "Epoch 33/100\n",
            "13/13 [==============================] - 3s 232ms/step - loss: 0.0295 - accuracy: 0.9933 - val_loss: 0.6188 - val_accuracy: 0.8343\n",
            "Epoch 34/100\n",
            "13/13 [==============================] - 3s 237ms/step - loss: 0.0259 - accuracy: 0.9939 - val_loss: 1.5906 - val_accuracy: 0.7195\n",
            "Epoch 35/100\n",
            "13/13 [==============================] - 3s 235ms/step - loss: 0.0280 - accuracy: 0.9951 - val_loss: 0.6394 - val_accuracy: 0.8357\n",
            "Epoch 36/100\n",
            "13/13 [==============================] - 3s 233ms/step - loss: 0.0144 - accuracy: 0.9957 - val_loss: 0.5841 - val_accuracy: 0.8414\n",
            "Epoch 37/100\n",
            "13/13 [==============================] - 3s 234ms/step - loss: 0.0290 - accuracy: 0.9933 - val_loss: 0.5917 - val_accuracy: 0.8499\n",
            "Epoch 38/100\n",
            "13/13 [==============================] - 3s 232ms/step - loss: 0.0230 - accuracy: 0.9970 - val_loss: 0.8247 - val_accuracy: 0.8102\n",
            "Epoch 39/100\n",
            "13/13 [==============================] - 3s 235ms/step - loss: 0.0169 - accuracy: 0.9951 - val_loss: 0.7337 - val_accuracy: 0.8215\n",
            "Epoch 40/100\n",
            "13/13 [==============================] - 3s 233ms/step - loss: 0.0141 - accuracy: 0.9982 - val_loss: 1.2474 - val_accuracy: 0.7635\n",
            "Epoch 41/100\n",
            "13/13 [==============================] - 3s 235ms/step - loss: 0.0207 - accuracy: 0.9957 - val_loss: 0.6438 - val_accuracy: 0.8314\n",
            "Epoch 42/100\n",
            "13/13 [==============================] - 3s 234ms/step - loss: 0.0125 - accuracy: 0.9976 - val_loss: 1.1743 - val_accuracy: 0.7691\n",
            "Epoch 43/100\n",
            "13/13 [==============================] - 3s 233ms/step - loss: 0.0256 - accuracy: 0.9976 - val_loss: 0.6638 - val_accuracy: 0.8357\n",
            "Epoch 44/100\n",
            "13/13 [==============================] - 3s 232ms/step - loss: 0.0232 - accuracy: 0.9957 - val_loss: 1.1085 - val_accuracy: 0.7762\n",
            "Epoch 45/100\n",
            "13/13 [==============================] - 3s 235ms/step - loss: 0.0150 - accuracy: 0.9951 - val_loss: 0.7503 - val_accuracy: 0.8300\n",
            "Epoch 46/100\n",
            "13/13 [==============================] - 3s 235ms/step - loss: 0.0132 - accuracy: 0.9964 - val_loss: 0.6096 - val_accuracy: 0.8428\n",
            "Epoch 47/100\n",
            "13/13 [==============================] - 3s 233ms/step - loss: 0.0210 - accuracy: 0.9951 - val_loss: 1.0687 - val_accuracy: 0.7805\n",
            "Epoch 48/100\n",
            "13/13 [==============================] - 3s 237ms/step - loss: 0.0186 - accuracy: 0.9964 - val_loss: 0.8750 - val_accuracy: 0.8017\n",
            "Epoch 49/100\n",
            "13/13 [==============================] - 3s 232ms/step - loss: 0.0136 - accuracy: 0.9957 - val_loss: 0.7459 - val_accuracy: 0.8371\n",
            "Epoch 50/100\n",
            "13/13 [==============================] - 3s 233ms/step - loss: 0.0227 - accuracy: 0.9964 - val_loss: 0.7223 - val_accuracy: 0.8286\n",
            "Epoch 51/100\n",
            "13/13 [==============================] - 3s 233ms/step - loss: 0.0163 - accuracy: 0.9957 - val_loss: 0.7629 - val_accuracy: 0.8456\n",
            "Epoch 52/100\n",
            "13/13 [==============================] - 3s 235ms/step - loss: 0.0221 - accuracy: 0.9964 - val_loss: 1.1796 - val_accuracy: 0.7677\n",
            "Epoch 53/100\n",
            "13/13 [==============================] - 3s 236ms/step - loss: 0.0213 - accuracy: 0.9939 - val_loss: 0.7166 - val_accuracy: 0.8343\n",
            "Epoch 54/100\n",
            "13/13 [==============================] - 3s 233ms/step - loss: 0.0149 - accuracy: 0.9976 - val_loss: 1.3676 - val_accuracy: 0.7521\n",
            "Epoch 55/100\n",
            "13/13 [==============================] - 3s 233ms/step - loss: 0.0177 - accuracy: 0.9970 - val_loss: 0.8026 - val_accuracy: 0.8272\n",
            "Epoch 56/100\n",
            "13/13 [==============================] - 3s 232ms/step - loss: 0.0157 - accuracy: 0.9945 - val_loss: 1.0174 - val_accuracy: 0.8031\n",
            "Epoch 57/100\n",
            "13/13 [==============================] - 3s 234ms/step - loss: 0.0338 - accuracy: 0.9939 - val_loss: 0.8362 - val_accuracy: 0.8244\n",
            "Epoch 58/100\n",
            "13/13 [==============================] - 3s 233ms/step - loss: 0.0227 - accuracy: 0.9964 - val_loss: 0.7883 - val_accuracy: 0.8159\n",
            "Epoch 59/100\n",
            "13/13 [==============================] - 3s 234ms/step - loss: 0.0206 - accuracy: 0.9933 - val_loss: 0.9428 - val_accuracy: 0.7989\n",
            "Epoch 60/100\n",
            "13/13 [==============================] - 3s 233ms/step - loss: 0.0176 - accuracy: 0.9964 - val_loss: 0.7021 - val_accuracy: 0.8088\n",
            "Epoch 61/100\n",
            "13/13 [==============================] - 3s 234ms/step - loss: 0.0111 - accuracy: 0.9976 - val_loss: 0.6980 - val_accuracy: 0.8229\n",
            "Epoch 62/100\n",
            "13/13 [==============================] - 3s 236ms/step - loss: 0.0224 - accuracy: 0.9933 - val_loss: 0.7172 - val_accuracy: 0.8329\n",
            "Epoch 63/100\n",
            "13/13 [==============================] - 3s 230ms/step - loss: 0.0216 - accuracy: 0.9927 - val_loss: 0.8227 - val_accuracy: 0.8187\n",
            "Epoch 64/100\n",
            "13/13 [==============================] - 3s 235ms/step - loss: 0.0177 - accuracy: 0.9951 - val_loss: 1.0023 - val_accuracy: 0.8116\n",
            "Epoch 65/100\n",
            "13/13 [==============================] - 3s 236ms/step - loss: 0.0294 - accuracy: 0.9939 - val_loss: 0.7089 - val_accuracy: 0.8414\n",
            "Epoch 66/100\n",
            "13/13 [==============================] - 3s 234ms/step - loss: 0.0173 - accuracy: 0.9964 - val_loss: 1.0656 - val_accuracy: 0.7989\n",
            "Epoch 67/100\n",
            "13/13 [==============================] - 3s 237ms/step - loss: 0.0277 - accuracy: 0.9945 - val_loss: 0.7445 - val_accuracy: 0.8329\n",
            "Epoch 68/100\n",
            "13/13 [==============================] - 3s 233ms/step - loss: 0.0228 - accuracy: 0.9939 - val_loss: 1.0569 - val_accuracy: 0.8059\n",
            "Epoch 69/100\n",
            "13/13 [==============================] - 3s 236ms/step - loss: 0.0280 - accuracy: 0.9964 - val_loss: 0.7175 - val_accuracy: 0.8357\n",
            "Epoch 70/100\n",
            "13/13 [==============================] - 3s 235ms/step - loss: 0.0125 - accuracy: 0.9970 - val_loss: 1.5909 - val_accuracy: 0.7408\n",
            "Epoch 71/100\n",
            "13/13 [==============================] - 3s 236ms/step - loss: 0.0238 - accuracy: 0.9964 - val_loss: 0.8989 - val_accuracy: 0.8201\n",
            "Epoch 72/100\n",
            "13/13 [==============================] - 3s 233ms/step - loss: 0.0108 - accuracy: 0.9970 - val_loss: 1.5318 - val_accuracy: 0.7521\n",
            "Epoch 73/100\n",
            "13/13 [==============================] - 3s 234ms/step - loss: 0.0188 - accuracy: 0.9964 - val_loss: 1.1943 - val_accuracy: 0.7989\n",
            "Epoch 74/100\n",
            "13/13 [==============================] - 3s 232ms/step - loss: 0.0127 - accuracy: 0.9951 - val_loss: 1.1681 - val_accuracy: 0.7960\n",
            "Epoch 75/100\n",
            "13/13 [==============================] - 3s 235ms/step - loss: 0.0135 - accuracy: 0.9982 - val_loss: 0.9066 - val_accuracy: 0.8286\n",
            "Epoch 76/100\n",
            "13/13 [==============================] - 3s 234ms/step - loss: 0.0148 - accuracy: 0.9976 - val_loss: 0.6576 - val_accuracy: 0.8470\n",
            "Epoch 77/100\n",
            "13/13 [==============================] - 3s 237ms/step - loss: 0.0114 - accuracy: 0.9970 - val_loss: 0.7311 - val_accuracy: 0.8343\n",
            "Epoch 78/100\n",
            "13/13 [==============================] - 3s 235ms/step - loss: 0.0183 - accuracy: 0.9964 - val_loss: 0.6734 - val_accuracy: 0.8555\n",
            "Epoch 79/100\n",
            "13/13 [==============================] - 3s 231ms/step - loss: 0.0228 - accuracy: 0.9964 - val_loss: 0.7626 - val_accuracy: 0.8414\n",
            "Epoch 80/100\n",
            "13/13 [==============================] - 3s 234ms/step - loss: 0.0140 - accuracy: 0.9976 - val_loss: 0.8779 - val_accuracy: 0.8258\n",
            "Epoch 81/100\n",
            "13/13 [==============================] - 3s 235ms/step - loss: 0.0129 - accuracy: 0.9970 - val_loss: 1.6161 - val_accuracy: 0.7365\n",
            "Epoch 82/100\n",
            "13/13 [==============================] - 3s 235ms/step - loss: 0.0141 - accuracy: 0.9957 - val_loss: 0.7563 - val_accuracy: 0.8513\n",
            "Epoch 83/100\n",
            "13/13 [==============================] - 3s 235ms/step - loss: 0.0149 - accuracy: 0.9970 - val_loss: 0.9017 - val_accuracy: 0.8343\n",
            "Epoch 84/100\n",
            "13/13 [==============================] - 3s 234ms/step - loss: 0.0157 - accuracy: 0.9964 - val_loss: 0.8138 - val_accuracy: 0.8555\n",
            "Epoch 85/100\n",
            "13/13 [==============================] - 3s 234ms/step - loss: 0.0085 - accuracy: 0.9970 - val_loss: 0.8644 - val_accuracy: 0.8229\n",
            "Epoch 86/100\n",
            "13/13 [==============================] - 3s 236ms/step - loss: 0.0092 - accuracy: 0.9964 - val_loss: 0.8891 - val_accuracy: 0.8088\n",
            "Epoch 87/100\n",
            "13/13 [==============================] - 3s 233ms/step - loss: 0.0174 - accuracy: 0.9970 - val_loss: 0.7706 - val_accuracy: 0.8286\n",
            "Epoch 88/100\n",
            "13/13 [==============================] - 3s 236ms/step - loss: 0.0108 - accuracy: 0.9970 - val_loss: 0.8460 - val_accuracy: 0.8272\n",
            "Epoch 89/100\n",
            "13/13 [==============================] - 3s 237ms/step - loss: 0.0118 - accuracy: 0.9957 - val_loss: 1.0171 - val_accuracy: 0.8187\n",
            "Epoch 90/100\n",
            "13/13 [==============================] - 3s 239ms/step - loss: 0.0103 - accuracy: 0.9951 - val_loss: 0.9452 - val_accuracy: 0.8201\n",
            "Epoch 91/100\n",
            "13/13 [==============================] - 3s 238ms/step - loss: 0.0108 - accuracy: 0.9970 - val_loss: 1.0219 - val_accuracy: 0.8031\n",
            "Epoch 92/100\n",
            "13/13 [==============================] - 3s 236ms/step - loss: 0.0142 - accuracy: 0.9957 - val_loss: 1.0463 - val_accuracy: 0.8130\n",
            "Epoch 93/100\n",
            "13/13 [==============================] - 3s 232ms/step - loss: 0.0129 - accuracy: 0.9964 - val_loss: 0.7820 - val_accuracy: 0.7790\n",
            "Epoch 94/100\n",
            "13/13 [==============================] - 3s 234ms/step - loss: 0.0148 - accuracy: 0.9970 - val_loss: 0.4922 - val_accuracy: 0.8456\n",
            "Epoch 95/100\n",
            "13/13 [==============================] - 3s 236ms/step - loss: 0.0271 - accuracy: 0.9927 - val_loss: 1.2034 - val_accuracy: 0.7450\n",
            "Epoch 96/100\n",
            "13/13 [==============================] - 3s 237ms/step - loss: 0.0201 - accuracy: 0.9951 - val_loss: 0.8542 - val_accuracy: 0.8201\n",
            "Epoch 97/100\n",
            "13/13 [==============================] - 3s 240ms/step - loss: 0.0153 - accuracy: 0.9976 - val_loss: 0.7393 - val_accuracy: 0.8286\n",
            "Epoch 98/100\n",
            "13/13 [==============================] - 3s 236ms/step - loss: 0.0165 - accuracy: 0.9945 - val_loss: 0.7455 - val_accuracy: 0.8159\n",
            "Epoch 99/100\n",
            "13/13 [==============================] - 3s 234ms/step - loss: 0.0133 - accuracy: 0.9945 - val_loss: 0.8957 - val_accuracy: 0.8286\n",
            "Epoch 100/100\n",
            "13/13 [==============================] - 3s 233ms/step - loss: 0.0105 - accuracy: 0.9951 - val_loss: 0.7748 - val_accuracy: 0.8258\n"
          ],
          "name": "stdout"
        }
      ]
    },
    {
      "cell_type": "code",
      "metadata": {
        "id": "kaHsta3dI3pw",
        "colab_type": "code",
        "colab": {
          "base_uri": "https://localhost:8080/",
          "height": 35
        },
        "outputId": "4941b8a0-1171-42a1-a8f3-fc23d7fd73d4"
      },
      "source": [
        "# accuracy on training set\n",
        "print('Accuracy on training set:', accuracy_score(y_train, model.predict_classes(X_train)), '%')"
      ],
      "execution_count": 38,
      "outputs": [
        {
          "output_type": "stream",
          "text": [
            "Accuracy on training set: 0.9975698663426489 %\n"
          ],
          "name": "stdout"
        }
      ]
    },
    {
      "cell_type": "code",
      "metadata": {
        "id": "Q75dbpvBI8li",
        "colab_type": "code",
        "colab": {
          "base_uri": "https://localhost:8080/",
          "height": 35
        },
        "outputId": "fdd318a0-a68a-412c-eb54-565f0a0f5e9b"
      },
      "source": [
        "# accuracy on validation set\n",
        "print('Accuracy on validation set:', accuracy_score(y_valid, model.predict_classes(X_valid)), '%')"
      ],
      "execution_count": 39,
      "outputs": [
        {
          "output_type": "stream",
          "text": [
            "Accuracy on validation set: 0.8257790368271954 %\n"
          ],
          "name": "stdout"
        }
      ]
    },
    {
      "cell_type": "code",
      "metadata": {
        "id": "1BhqOvmUJBHv",
        "colab_type": "code",
        "colab": {
          "base_uri": "https://localhost:8080/",
          "height": 295
        },
        "outputId": "f081c977-6ef9-40c4-db54-5508d7ae5f43"
      },
      "source": [
        "# summarize history for loss\n",
        "plt.plot(model_history.history['loss'])\n",
        "plt.plot(model_history.history['val_loss'])\n",
        "plt.title('model loss')\n",
        "plt.ylabel('loss')\n",
        "plt.xlabel('epoch')\n",
        "plt.legend(['train', 'validation'], loc='upper left')\n",
        "plt.show()"
      ],
      "execution_count": 40,
      "outputs": [
        {
          "output_type": "display_data",
          "data": {
            "image/png": "[encoded data removed]",
            "text/plain": [
              "<Figure size 432x288 with 1 Axes>"
            ]
          },
          "metadata": {
            "tags": [],
            "needs_background": "light"
          }
        }
      ]
    },
    {
      "cell_type": "code",
      "metadata": {
        "id": "UOTNXVL7JFmr",
        "colab_type": "code",
        "colab": {
          "base_uri": "https://localhost:8080/",
          "height": 295
        },
        "outputId": "71e4e930-f28c-46aa-954d-593fcf1d47e7"
      },
      "source": [
        "# summarize history for accuracy\n",
        "plt.plot(model_history.history['accuracy'])\n",
        "plt.plot(model_history.history['val_accuracy'])\n",
        "plt.title('model accuracy')\n",
        "plt.ylabel('accuracy')\n",
        "plt.xlabel('epoch')\n",
        "plt.legend(['train', 'validation'], loc='upper left')\n",
        "plt.show()"
      ],
      "execution_count": 42,
      "outputs": [
        {
          "output_type": "display_data",
          "data": {
            "image/png": "[encoded data removed]",
            "text/plain": [
              "<Figure size 432x288 with 1 Axes>"
            ]
          },
          "metadata": {
            "tags": [],
            "needs_background": "light"
          }
        }
      ]
    },
    {
      "cell_type": "markdown",
      "metadata": {
        "id": "FZvZiYoTiQVz",
        "colab_type": "text"
      },
      "source": [
        "# **5 Model Checkpoint in CNN**"
      ]
    },
    {
      "cell_type": "code",
      "metadata": {
        "id": "GSOLwdguidl-",
        "colab_type": "code",
        "colab": {}
      },
      "source": [
        "# Normalize the pixel values\n",
        "X = X / X.max()"
      ],
      "execution_count": 50,
      "outputs": []
    },
    {
      "cell_type": "code",
      "metadata": {
        "id": "aOjUpByQimgq",
        "colab_type": "code",
        "colab": {
          "base_uri": "https://localhost:8080/",
          "height": 35
        },
        "outputId": "d9c74cc3-44b4-4cb9-ce64-8ff94725c6d2"
      },
      "source": [
        "# minimum and maximum pixel value of images after normalize\n",
        "X.min(), X.max()"
      ],
      "execution_count": 51,
      "outputs": [
        {
          "output_type": "execute_result",
          "data": {
            "text/plain": [
              "(0.0, 1.0)"
            ]
          },
          "metadata": {
            "tags": []
          },
          "execution_count": 51
        }
      ]
    },
    {
      "cell_type": "code",
      "metadata": {
        "id": "IdQlsX2visi9",
        "colab_type": "code",
        "colab": {}
      },
      "source": [
        "# Creating training and validation set\n",
        "X_train, X_valid, y_train, y_valid = train_test_split(X,y, test_size = 0.3, random_state= seed)"
      ],
      "execution_count": 52,
      "outputs": []
    },
    {
      "cell_type": "code",
      "metadata": {
        "id": "Y0e7lTVYi6Eg",
        "colab_type": "code",
        "colab": {
          "base_uri": "https://localhost:8080/",
          "height": 35
        },
        "outputId": "408cf0f2-9f35-4f85-bc3e-8214effc0578"
      },
      "source": [
        "# Shape of training and validation set\n",
        "(X_train.shape, y_train.shape), (X_valid.shape, y_valid.shape)"
      ],
      "execution_count": 53,
      "outputs": [
        {
          "output_type": "execute_result",
          "data": {
            "text/plain": [
              "(((1646, 224, 224, 3), (1646,)), ((706, 224, 224, 3), (706,)))"
            ]
          },
          "metadata": {
            "tags": []
          },
          "execution_count": 53
        }
      ]
    },
    {
      "cell_type": "markdown",
      "metadata": {
        "id": "NNk4mkWljBDM",
        "colab_type": "text"
      },
      "source": [
        "# **5.1 Defining the Model Architecture**"
      ]
    },
    {
      "cell_type": "code",
      "metadata": {
        "id": "bmTarn-8i7zK",
        "colab_type": "code",
        "colab": {}
      },
      "source": [
        "# importing the convolutional and flatten layer from keras\n",
        "from keras.layers import Conv2D, Flatten, MaxPool2D"
      ],
      "execution_count": 54,
      "outputs": []
    },
    {
      "cell_type": "code",
      "metadata": {
        "id": "9yNJi3PmjT2Y",
        "colab_type": "code",
        "colab": {}
      },
      "source": [
        "# defining the model architecture with maxpool layer\n",
        "\n",
        "model = Sequential()\n",
        "    \n",
        "model.add(InputLayer(input_shape=(224, 224, 3)))\n",
        "\n",
        "model.add(Conv2D(50, (5, 5), activation='relu', strides=(1, 1), padding='valid'))\n",
        "model.add(MaxPool2D(pool_size=(2, 2), padding='valid'))\n",
        "model.add(Conv2D(50, (5, 5), activation='relu', strides=(1, 1), padding='valid'))\n",
        "model.add(MaxPool2D(pool_size=(4, 4), padding='valid'))\n",
        "\n",
        "model.add(Flatten())\n",
        "\n",
        "model.add(Dense(units=100, activation='relu'))\n",
        "model.add(BatchNormalization())\n",
        "model.add(Dropout(rate=0.6))\n",
        "model.add(Dense(units=100, activation='relu'))\n",
        "model.add(BatchNormalization())\n",
        "model.add(Dropout(rate=0.6))\n",
        "model.add(Dense(units=1, activation='sigmoid'))"
      ],
      "execution_count": 55,
      "outputs": []
    },
    {
      "cell_type": "code",
      "metadata": {
        "id": "-DmyyTA9jbtm",
        "colab_type": "code",
        "colab": {
          "base_uri": "https://localhost:8080/",
          "height": 586
        },
        "outputId": "9dde2c9f-4f6f-43a4-edc5-dff4cbad16a5"
      },
      "source": [
        "# printing summary of the model\n",
        "model.summary()"
      ],
      "execution_count": 56,
      "outputs": [
        {
          "output_type": "stream",
          "text": [
            "Model: \"sequential_2\"\n",
            "_________________________________________________________________\n",
            "Layer (type)                 Output Shape              Param #   \n",
            "=================================================================\n",
            "conv2d_4 (Conv2D)            (None, 220, 220, 50)      3800      \n",
            "_________________________________________________________________\n",
            "max_pooling2d_4 (MaxPooling2 (None, 110, 110, 50)      0         \n",
            "_________________________________________________________________\n",
            "conv2d_5 (Conv2D)            (None, 106, 106, 50)      62550     \n",
            "_________________________________________________________________\n",
            "max_pooling2d_5 (MaxPooling2 (None, 26, 26, 50)        0         \n",
            "_________________________________________________________________\n",
            "flatten_2 (Flatten)          (None, 33800)             0         \n",
            "_________________________________________________________________\n",
            "dense_6 (Dense)              (None, 100)               3380100   \n",
            "_________________________________________________________________\n",
            "batch_normalization_4 (Batch (None, 100)               400       \n",
            "_________________________________________________________________\n",
            "dropout_4 (Dropout)          (None, 100)               0         \n",
            "_________________________________________________________________\n",
            "dense_7 (Dense)              (None, 100)               10100     \n",
            "_________________________________________________________________\n",
            "batch_normalization_5 (Batch (None, 100)               400       \n",
            "_________________________________________________________________\n",
            "dropout_5 (Dropout)          (None, 100)               0         \n",
            "_________________________________________________________________\n",
            "dense_8 (Dense)              (None, 1)                 101       \n",
            "=================================================================\n",
            "Total params: 3,457,451\n",
            "Trainable params: 3,457,051\n",
            "Non-trainable params: 400\n",
            "_________________________________________________________________\n"
          ],
          "name": "stdout"
        }
      ]
    },
    {
      "cell_type": "code",
      "metadata": {
        "id": "xRwwRwVJjdIa",
        "colab_type": "code",
        "colab": {}
      },
      "source": [
        "# compiling the model\n",
        "model.compile(loss='binary_crossentropy', optimizer=\"adam\", metrics=['accuracy'])"
      ],
      "execution_count": 57,
      "outputs": []
    },
    {
      "cell_type": "markdown",
      "metadata": {
        "id": "b_34wnPrjhrZ",
        "colab_type": "text"
      },
      "source": [
        "# **5.2 Training the Model**"
      ]
    },
    {
      "cell_type": "code",
      "metadata": {
        "id": "Hv7GK7XHjtX0",
        "colab_type": "code",
        "colab": {}
      },
      "source": [
        "# defining model checkpointing\n",
        "from keras.callbacks import ModelCheckpoint\n",
        "\n",
        "# defining the path to save the model\n",
        "path = 'best_model.hdf5'\n",
        "\n",
        "# defining model checkpointing\n",
        "checkpoint = ModelCheckpoint(path, monitor='val_accuracy', verbose = 1, save_best_only = True, mode='max')\n",
        "\n",
        "# defining callback list\n",
        "callback_list = [checkpoint]"
      ],
      "execution_count": 58,
      "outputs": []
    },
    {
      "cell_type": "code",
      "metadata": {
        "id": "Sydf7MISj3YI",
        "colab_type": "code",
        "colab": {
          "base_uri": "https://localhost:8080/",
          "height": 1000
        },
        "outputId": "d07cd751-a01d-4604-d3c0-11f487ad2309"
      },
      "source": [
        "# training the model for 100 epochs\n",
        "model_history = model.fit(X_train, y_train, epochs=100, batch_size=128,validation_data=(X_valid,y_valid), callbacks=callback_list)"
      ],
      "execution_count": 59,
      "outputs": [
        {
          "output_type": "stream",
          "text": [
            "Epoch 1/100\n",
            " 2/13 [===>..........................] - ETA: 1s - loss: 0.9909 - accuracy: 0.5312WARNING:tensorflow:Callbacks method `on_train_batch_end` is slow compared to the batch time (batch time: 0.0695s vs `on_train_batch_end` time: 0.1295s). Check your callbacks.\n",
            "13/13 [==============================] - ETA: 0s - loss: 0.9550 - accuracy: 0.5680\n",
            "Epoch 00001: val_accuracy improved from -inf to 0.56232, saving model to best_model.hdf5\n",
            "13/13 [==============================] - 3s 266ms/step - loss: 0.9550 - accuracy: 0.5680 - val_loss: 1.2127 - val_accuracy: 0.5623\n",
            "Epoch 2/100\n",
            "13/13 [==============================] - ETA: 0s - loss: 0.6967 - accuracy: 0.7029\n",
            "Epoch 00002: val_accuracy improved from 0.56232 to 0.72805, saving model to best_model.hdf5\n",
            "13/13 [==============================] - 3s 236ms/step - loss: 0.6967 - accuracy: 0.7029 - val_loss: 0.5749 - val_accuracy: 0.7280\n",
            "Epoch 3/100\n",
            "13/13 [==============================] - ETA: 0s - loss: 0.6545 - accuracy: 0.7108\n",
            "Epoch 00003: val_accuracy did not improve from 0.72805\n",
            "13/13 [==============================] - 3s 228ms/step - loss: 0.6545 - accuracy: 0.7108 - val_loss: 1.0692 - val_accuracy: 0.6501\n",
            "Epoch 4/100\n",
            "13/13 [==============================] - ETA: 0s - loss: 0.5593 - accuracy: 0.7503\n",
            "Epoch 00004: val_accuracy did not improve from 0.72805\n",
            "13/13 [==============================] - 3s 229ms/step - loss: 0.5593 - accuracy: 0.7503 - val_loss: 0.6197 - val_accuracy: 0.7266\n",
            "Epoch 5/100\n",
            "13/13 [==============================] - ETA: 0s - loss: 0.5120 - accuracy: 0.7679\n",
            "Epoch 00005: val_accuracy improved from 0.72805 to 0.79462, saving model to best_model.hdf5\n",
            "13/13 [==============================] - 3s 233ms/step - loss: 0.5120 - accuracy: 0.7679 - val_loss: 0.4426 - val_accuracy: 0.7946\n",
            "Epoch 6/100\n",
            "13/13 [==============================] - ETA: 0s - loss: 0.4593 - accuracy: 0.8001\n",
            "Epoch 00006: val_accuracy did not improve from 0.79462\n",
            "13/13 [==============================] - 3s 228ms/step - loss: 0.4593 - accuracy: 0.8001 - val_loss: 0.9939 - val_accuracy: 0.6076\n",
            "Epoch 7/100\n",
            "13/13 [==============================] - ETA: 0s - loss: 0.4302 - accuracy: 0.8019\n",
            "Epoch 00007: val_accuracy improved from 0.79462 to 0.83144, saving model to best_model.hdf5\n",
            "13/13 [==============================] - 3s 235ms/step - loss: 0.4302 - accuracy: 0.8019 - val_loss: 0.3959 - val_accuracy: 0.8314\n",
            "Epoch 8/100\n",
            "13/13 [==============================] - ETA: 0s - loss: 0.3660 - accuracy: 0.8439\n",
            "Epoch 00008: val_accuracy improved from 0.83144 to 0.83286, saving model to best_model.hdf5\n",
            "13/13 [==============================] - 3s 238ms/step - loss: 0.3660 - accuracy: 0.8439 - val_loss: 0.3885 - val_accuracy: 0.8329\n",
            "Epoch 9/100\n",
            "13/13 [==============================] - ETA: 0s - loss: 0.3668 - accuracy: 0.8487\n",
            "Epoch 00009: val_accuracy did not improve from 0.83286\n",
            "13/13 [==============================] - 3s 230ms/step - loss: 0.3668 - accuracy: 0.8487 - val_loss: 0.7408 - val_accuracy: 0.6926\n",
            "Epoch 10/100\n",
            "13/13 [==============================] - ETA: 0s - loss: 0.2906 - accuracy: 0.8846\n",
            "Epoch 00010: val_accuracy did not improve from 0.83286\n",
            "13/13 [==============================] - 3s 227ms/step - loss: 0.2906 - accuracy: 0.8846 - val_loss: 0.5226 - val_accuracy: 0.7890\n",
            "Epoch 11/100\n",
            "13/13 [==============================] - ETA: 0s - loss: 0.2459 - accuracy: 0.9010\n",
            "Epoch 00011: val_accuracy did not improve from 0.83286\n",
            "13/13 [==============================] - 3s 225ms/step - loss: 0.2459 - accuracy: 0.9010 - val_loss: 0.5567 - val_accuracy: 0.7479\n",
            "Epoch 12/100\n",
            "13/13 [==============================] - ETA: 0s - loss: 0.2514 - accuracy: 0.8943\n",
            "Epoch 00012: val_accuracy did not improve from 0.83286\n",
            "13/13 [==============================] - 3s 227ms/step - loss: 0.2514 - accuracy: 0.8943 - val_loss: 0.5386 - val_accuracy: 0.8003\n",
            "Epoch 13/100\n",
            "13/13 [==============================] - ETA: 0s - loss: 0.2038 - accuracy: 0.9204\n",
            "Epoch 00013: val_accuracy did not improve from 0.83286\n",
            "13/13 [==============================] - 3s 228ms/step - loss: 0.2038 - accuracy: 0.9204 - val_loss: 0.4045 - val_accuracy: 0.8244\n",
            "Epoch 14/100\n",
            "13/13 [==============================] - ETA: 0s - loss: 0.1822 - accuracy: 0.9277\n",
            "Epoch 00014: val_accuracy did not improve from 0.83286\n",
            "13/13 [==============================] - 3s 229ms/step - loss: 0.1822 - accuracy: 0.9277 - val_loss: 1.1156 - val_accuracy: 0.6856\n",
            "Epoch 15/100\n",
            "13/13 [==============================] - ETA: 0s - loss: 0.1470 - accuracy: 0.9447\n",
            "Epoch 00015: val_accuracy did not improve from 0.83286\n",
            "13/13 [==============================] - 3s 229ms/step - loss: 0.1470 - accuracy: 0.9447 - val_loss: 0.6149 - val_accuracy: 0.7677\n",
            "Epoch 16/100\n",
            "13/13 [==============================] - ETA: 0s - loss: 0.1266 - accuracy: 0.9538\n",
            "Epoch 00016: val_accuracy did not improve from 0.83286\n",
            "13/13 [==============================] - 3s 225ms/step - loss: 0.1266 - accuracy: 0.9538 - val_loss: 0.7153 - val_accuracy: 0.7479\n",
            "Epoch 17/100\n",
            "13/13 [==============================] - ETA: 0s - loss: 0.1011 - accuracy: 0.9654\n",
            "Epoch 00017: val_accuracy did not improve from 0.83286\n",
            "13/13 [==============================] - 3s 227ms/step - loss: 0.1011 - accuracy: 0.9654 - val_loss: 0.5309 - val_accuracy: 0.8187\n",
            "Epoch 18/100\n",
            "13/13 [==============================] - ETA: 0s - loss: 0.0928 - accuracy: 0.9745\n",
            "Epoch 00018: val_accuracy did not improve from 0.83286\n",
            "13/13 [==============================] - 3s 230ms/step - loss: 0.0928 - accuracy: 0.9745 - val_loss: 1.1566 - val_accuracy: 0.6785\n",
            "Epoch 19/100\n",
            "13/13 [==============================] - ETA: 0s - loss: 0.0776 - accuracy: 0.9793\n",
            "Epoch 00019: val_accuracy did not improve from 0.83286\n",
            "13/13 [==============================] - 3s 232ms/step - loss: 0.0776 - accuracy: 0.9793 - val_loss: 0.9055 - val_accuracy: 0.7351\n",
            "Epoch 20/100\n",
            "13/13 [==============================] - ETA: 0s - loss: 0.0726 - accuracy: 0.9787\n",
            "Epoch 00020: val_accuracy did not improve from 0.83286\n",
            "13/13 [==============================] - 3s 230ms/step - loss: 0.0726 - accuracy: 0.9787 - val_loss: 1.3660 - val_accuracy: 0.6643\n",
            "Epoch 21/100\n",
            "13/13 [==============================] - ETA: 0s - loss: 0.0575 - accuracy: 0.9836\n",
            "Epoch 00021: val_accuracy did not improve from 0.83286\n",
            "13/13 [==============================] - 3s 229ms/step - loss: 0.0575 - accuracy: 0.9836 - val_loss: 0.8307 - val_accuracy: 0.7847\n",
            "Epoch 22/100\n",
            "13/13 [==============================] - ETA: 0s - loss: 0.0645 - accuracy: 0.9818\n",
            "Epoch 00022: val_accuracy did not improve from 0.83286\n",
            "13/13 [==============================] - 3s 229ms/step - loss: 0.0645 - accuracy: 0.9818 - val_loss: 1.8592 - val_accuracy: 0.6303\n",
            "Epoch 23/100\n",
            "13/13 [==============================] - ETA: 0s - loss: 0.0472 - accuracy: 0.9891\n",
            "Epoch 00023: val_accuracy did not improve from 0.83286\n",
            "13/13 [==============================] - 3s 228ms/step - loss: 0.0472 - accuracy: 0.9891 - val_loss: 0.9595 - val_accuracy: 0.7436\n",
            "Epoch 24/100\n",
            "13/13 [==============================] - ETA: 0s - loss: 0.0620 - accuracy: 0.9830\n",
            "Epoch 00024: val_accuracy did not improve from 0.83286\n",
            "13/13 [==============================] - 3s 230ms/step - loss: 0.0620 - accuracy: 0.9830 - val_loss: 1.0445 - val_accuracy: 0.7125\n",
            "Epoch 25/100\n",
            "13/13 [==============================] - ETA: 0s - loss: 0.0411 - accuracy: 0.9903\n",
            "Epoch 00025: val_accuracy did not improve from 0.83286\n",
            "13/13 [==============================] - 3s 233ms/step - loss: 0.0411 - accuracy: 0.9903 - val_loss: 0.9019 - val_accuracy: 0.7620\n",
            "Epoch 26/100\n",
            "13/13 [==============================] - ETA: 0s - loss: 0.0495 - accuracy: 0.9878\n",
            "Epoch 00026: val_accuracy did not improve from 0.83286\n",
            "13/13 [==============================] - 3s 233ms/step - loss: 0.0495 - accuracy: 0.9878 - val_loss: 1.7448 - val_accuracy: 0.6416\n",
            "Epoch 27/100\n",
            "13/13 [==============================] - ETA: 0s - loss: 0.0336 - accuracy: 0.9903\n",
            "Epoch 00027: val_accuracy did not improve from 0.83286\n",
            "13/13 [==============================] - 3s 232ms/step - loss: 0.0336 - accuracy: 0.9903 - val_loss: 0.7230 - val_accuracy: 0.8074\n",
            "Epoch 28/100\n",
            "13/13 [==============================] - ETA: 0s - loss: 0.0352 - accuracy: 0.9897\n",
            "Epoch 00028: val_accuracy did not improve from 0.83286\n",
            "13/13 [==============================] - 3s 230ms/step - loss: 0.0352 - accuracy: 0.9897 - val_loss: 1.5713 - val_accuracy: 0.6728\n",
            "Epoch 29/100\n",
            "13/13 [==============================] - ETA: 0s - loss: 0.0331 - accuracy: 0.9921\n",
            "Epoch 00029: val_accuracy did not improve from 0.83286\n",
            "13/13 [==============================] - 3s 234ms/step - loss: 0.0331 - accuracy: 0.9921 - val_loss: 0.8654 - val_accuracy: 0.7790\n",
            "Epoch 30/100\n",
            "13/13 [==============================] - ETA: 0s - loss: 0.0227 - accuracy: 0.9970\n",
            "Epoch 00030: val_accuracy did not improve from 0.83286\n",
            "13/13 [==============================] - 3s 229ms/step - loss: 0.0227 - accuracy: 0.9970 - val_loss: 1.0262 - val_accuracy: 0.7734\n",
            "Epoch 31/100\n",
            "13/13 [==============================] - ETA: 0s - loss: 0.0225 - accuracy: 0.9939\n",
            "Epoch 00031: val_accuracy did not improve from 0.83286\n",
            "13/13 [==============================] - 3s 229ms/step - loss: 0.0225 - accuracy: 0.9939 - val_loss: 0.9022 - val_accuracy: 0.7790\n",
            "Epoch 32/100\n",
            "13/13 [==============================] - ETA: 0s - loss: 0.0242 - accuracy: 0.9939\n",
            "Epoch 00032: val_accuracy did not improve from 0.83286\n",
            "13/13 [==============================] - 3s 229ms/step - loss: 0.0242 - accuracy: 0.9939 - val_loss: 0.7095 - val_accuracy: 0.8272\n",
            "Epoch 33/100\n",
            "13/13 [==============================] - ETA: 0s - loss: 0.0414 - accuracy: 0.9909\n",
            "Epoch 00033: val_accuracy did not improve from 0.83286\n",
            "13/13 [==============================] - 3s 230ms/step - loss: 0.0414 - accuracy: 0.9909 - val_loss: 0.6139 - val_accuracy: 0.8300\n",
            "Epoch 34/100\n",
            "13/13 [==============================] - ETA: 0s - loss: 0.0253 - accuracy: 0.9921\n",
            "Epoch 00034: val_accuracy did not improve from 0.83286\n",
            "13/13 [==============================] - 3s 228ms/step - loss: 0.0253 - accuracy: 0.9921 - val_loss: 0.8754 - val_accuracy: 0.7875\n",
            "Epoch 35/100\n",
            "13/13 [==============================] - ETA: 0s - loss: 0.0310 - accuracy: 0.9933\n",
            "Epoch 00035: val_accuracy did not improve from 0.83286\n",
            "13/13 [==============================] - 3s 230ms/step - loss: 0.0310 - accuracy: 0.9933 - val_loss: 1.2860 - val_accuracy: 0.7295\n",
            "Epoch 36/100\n",
            "13/13 [==============================] - ETA: 0s - loss: 0.0229 - accuracy: 0.9951\n",
            "Epoch 00036: val_accuracy did not improve from 0.83286\n",
            "13/13 [==============================] - 3s 232ms/step - loss: 0.0229 - accuracy: 0.9951 - val_loss: 0.9258 - val_accuracy: 0.8045\n",
            "Epoch 37/100\n",
            "13/13 [==============================] - ETA: 0s - loss: 0.0201 - accuracy: 0.9957\n",
            "Epoch 00037: val_accuracy did not improve from 0.83286\n",
            "13/13 [==============================] - 3s 231ms/step - loss: 0.0201 - accuracy: 0.9957 - val_loss: 0.8256 - val_accuracy: 0.8116\n",
            "Epoch 38/100\n",
            "13/13 [==============================] - ETA: 0s - loss: 0.0240 - accuracy: 0.9939\n",
            "Epoch 00038: val_accuracy improved from 0.83286 to 0.84419, saving model to best_model.hdf5\n",
            "13/13 [==============================] - 3s 238ms/step - loss: 0.0240 - accuracy: 0.9939 - val_loss: 0.6474 - val_accuracy: 0.8442\n",
            "Epoch 39/100\n",
            "13/13 [==============================] - ETA: 0s - loss: 0.0199 - accuracy: 0.9945\n",
            "Epoch 00039: val_accuracy improved from 0.84419 to 0.85269, saving model to best_model.hdf5\n",
            "13/13 [==============================] - 3s 240ms/step - loss: 0.0199 - accuracy: 0.9945 - val_loss: 0.5661 - val_accuracy: 0.8527\n",
            "Epoch 40/100\n",
            "13/13 [==============================] - ETA: 0s - loss: 0.0161 - accuracy: 0.9964\n",
            "Epoch 00040: val_accuracy did not improve from 0.85269\n",
            "13/13 [==============================] - 3s 233ms/step - loss: 0.0161 - accuracy: 0.9964 - val_loss: 0.6335 - val_accuracy: 0.8442\n",
            "Epoch 41/100\n",
            "13/13 [==============================] - ETA: 0s - loss: 0.0114 - accuracy: 0.9970\n",
            "Epoch 00041: val_accuracy did not improve from 0.85269\n",
            "13/13 [==============================] - 3s 232ms/step - loss: 0.0114 - accuracy: 0.9970 - val_loss: 0.6880 - val_accuracy: 0.8173\n",
            "Epoch 42/100\n",
            "13/13 [==============================] - ETA: 0s - loss: 0.0317 - accuracy: 0.9927\n",
            "Epoch 00042: val_accuracy did not improve from 0.85269\n",
            "13/13 [==============================] - 3s 234ms/step - loss: 0.0317 - accuracy: 0.9927 - val_loss: 0.9312 - val_accuracy: 0.7946\n",
            "Epoch 43/100\n",
            "13/13 [==============================] - ETA: 0s - loss: 0.0262 - accuracy: 0.9927\n",
            "Epoch 00043: val_accuracy did not improve from 0.85269\n",
            "13/13 [==============================] - 3s 233ms/step - loss: 0.0262 - accuracy: 0.9927 - val_loss: 0.6762 - val_accuracy: 0.8314\n",
            "Epoch 44/100\n",
            "13/13 [==============================] - ETA: 0s - loss: 0.0273 - accuracy: 0.9909\n",
            "Epoch 00044: val_accuracy did not improve from 0.85269\n",
            "13/13 [==============================] - 3s 229ms/step - loss: 0.0273 - accuracy: 0.9909 - val_loss: 0.6597 - val_accuracy: 0.8414\n",
            "Epoch 45/100\n",
            "13/13 [==============================] - ETA: 0s - loss: 0.0249 - accuracy: 0.9927\n",
            "Epoch 00045: val_accuracy did not improve from 0.85269\n",
            "13/13 [==============================] - 3s 233ms/step - loss: 0.0249 - accuracy: 0.9927 - val_loss: 0.7715 - val_accuracy: 0.8003\n",
            "Epoch 46/100\n",
            "13/13 [==============================] - ETA: 0s - loss: 0.0430 - accuracy: 0.9872\n",
            "Epoch 00046: val_accuracy did not improve from 0.85269\n",
            "13/13 [==============================] - 3s 231ms/step - loss: 0.0430 - accuracy: 0.9872 - val_loss: 1.1267 - val_accuracy: 0.7762\n",
            "Epoch 47/100\n",
            "13/13 [==============================] - ETA: 0s - loss: 0.0456 - accuracy: 0.9854\n",
            "Epoch 00047: val_accuracy did not improve from 0.85269\n",
            "13/13 [==============================] - 3s 232ms/step - loss: 0.0456 - accuracy: 0.9854 - val_loss: 0.7742 - val_accuracy: 0.8371\n",
            "Epoch 48/100\n",
            "13/13 [==============================] - ETA: 0s - loss: 0.0273 - accuracy: 0.9939\n",
            "Epoch 00048: val_accuracy did not improve from 0.85269\n",
            "13/13 [==============================] - 3s 231ms/step - loss: 0.0273 - accuracy: 0.9939 - val_loss: 0.7311 - val_accuracy: 0.8173\n",
            "Epoch 49/100\n",
            "13/13 [==============================] - ETA: 0s - loss: 0.0324 - accuracy: 0.9909\n",
            "Epoch 00049: val_accuracy did not improve from 0.85269\n",
            "13/13 [==============================] - 3s 230ms/step - loss: 0.0324 - accuracy: 0.9909 - val_loss: 1.8597 - val_accuracy: 0.6941\n",
            "Epoch 50/100\n",
            "13/13 [==============================] - ETA: 0s - loss: 0.0321 - accuracy: 0.9945\n",
            "Epoch 00050: val_accuracy did not improve from 0.85269\n",
            "13/13 [==============================] - 3s 230ms/step - loss: 0.0321 - accuracy: 0.9945 - val_loss: 1.1623 - val_accuracy: 0.7918\n",
            "Epoch 51/100\n",
            "13/13 [==============================] - ETA: 0s - loss: 0.0310 - accuracy: 0.9921\n",
            "Epoch 00051: val_accuracy did not improve from 0.85269\n",
            "13/13 [==============================] - 3s 230ms/step - loss: 0.0310 - accuracy: 0.9921 - val_loss: 1.9934 - val_accuracy: 0.7068\n",
            "Epoch 52/100\n",
            "13/13 [==============================] - ETA: 0s - loss: 0.0259 - accuracy: 0.9921\n",
            "Epoch 00052: val_accuracy did not improve from 0.85269\n",
            "13/13 [==============================] - 3s 230ms/step - loss: 0.0259 - accuracy: 0.9921 - val_loss: 0.7316 - val_accuracy: 0.8343\n",
            "Epoch 53/100\n",
            "13/13 [==============================] - ETA: 0s - loss: 0.0288 - accuracy: 0.9939\n",
            "Epoch 00053: val_accuracy did not improve from 0.85269\n",
            "13/13 [==============================] - 3s 229ms/step - loss: 0.0288 - accuracy: 0.9939 - val_loss: 1.3191 - val_accuracy: 0.7819\n",
            "Epoch 54/100\n",
            "13/13 [==============================] - ETA: 0s - loss: 0.0304 - accuracy: 0.9945\n",
            "Epoch 00054: val_accuracy did not improve from 0.85269\n",
            "13/13 [==============================] - 3s 231ms/step - loss: 0.0304 - accuracy: 0.9945 - val_loss: 0.7192 - val_accuracy: 0.8414\n",
            "Epoch 55/100\n",
            "13/13 [==============================] - ETA: 0s - loss: 0.0205 - accuracy: 0.9951\n",
            "Epoch 00055: val_accuracy did not improve from 0.85269\n",
            "13/13 [==============================] - 3s 228ms/step - loss: 0.0205 - accuracy: 0.9951 - val_loss: 0.7221 - val_accuracy: 0.8470\n",
            "Epoch 56/100\n",
            "13/13 [==============================] - ETA: 0s - loss: 0.0125 - accuracy: 0.9976\n",
            "Epoch 00056: val_accuracy did not improve from 0.85269\n",
            "13/13 [==============================] - 3s 234ms/step - loss: 0.0125 - accuracy: 0.9976 - val_loss: 0.9173 - val_accuracy: 0.8187\n",
            "Epoch 57/100\n",
            "13/13 [==============================] - ETA: 0s - loss: 0.0191 - accuracy: 0.9976\n",
            "Epoch 00057: val_accuracy did not improve from 0.85269\n",
            "13/13 [==============================] - 3s 230ms/step - loss: 0.0191 - accuracy: 0.9976 - val_loss: 0.9173 - val_accuracy: 0.8414\n",
            "Epoch 58/100\n",
            "13/13 [==============================] - ETA: 0s - loss: 0.0214 - accuracy: 0.9970\n",
            "Epoch 00058: val_accuracy did not improve from 0.85269\n",
            "13/13 [==============================] - 3s 233ms/step - loss: 0.0214 - accuracy: 0.9970 - val_loss: 0.7663 - val_accuracy: 0.8442\n",
            "Epoch 59/100\n",
            "13/13 [==============================] - ETA: 0s - loss: 0.0142 - accuracy: 0.9970\n",
            "Epoch 00059: val_accuracy did not improve from 0.85269\n",
            "13/13 [==============================] - 3s 232ms/step - loss: 0.0142 - accuracy: 0.9970 - val_loss: 0.7841 - val_accuracy: 0.8428\n",
            "Epoch 60/100\n",
            "13/13 [==============================] - ETA: 0s - loss: 0.0132 - accuracy: 0.9970\n",
            "Epoch 00060: val_accuracy did not improve from 0.85269\n",
            "13/13 [==============================] - 3s 235ms/step - loss: 0.0132 - accuracy: 0.9970 - val_loss: 0.7512 - val_accuracy: 0.8499\n",
            "Epoch 61/100\n",
            "13/13 [==============================] - ETA: 0s - loss: 0.0138 - accuracy: 0.9957\n",
            "Epoch 00061: val_accuracy did not improve from 0.85269\n",
            "13/13 [==============================] - 3s 231ms/step - loss: 0.0138 - accuracy: 0.9957 - val_loss: 0.7119 - val_accuracy: 0.8371\n",
            "Epoch 62/100\n",
            "13/13 [==============================] - ETA: 0s - loss: 0.0084 - accuracy: 0.9982\n",
            "Epoch 00062: val_accuracy did not improve from 0.85269\n",
            "13/13 [==============================] - 3s 231ms/step - loss: 0.0084 - accuracy: 0.9982 - val_loss: 0.7065 - val_accuracy: 0.8527\n",
            "Epoch 63/100\n",
            "13/13 [==============================] - ETA: 0s - loss: 0.0145 - accuracy: 0.9970\n",
            "Epoch 00063: val_accuracy did not improve from 0.85269\n",
            "13/13 [==============================] - 3s 232ms/step - loss: 0.0145 - accuracy: 0.9970 - val_loss: 1.0682 - val_accuracy: 0.7975\n",
            "Epoch 64/100\n",
            "13/13 [==============================] - ETA: 0s - loss: 0.0106 - accuracy: 0.9988\n",
            "Epoch 00064: val_accuracy did not improve from 0.85269\n",
            "13/13 [==============================] - 3s 232ms/step - loss: 0.0106 - accuracy: 0.9988 - val_loss: 0.6918 - val_accuracy: 0.8314\n",
            "Epoch 65/100\n",
            "13/13 [==============================] - ETA: 0s - loss: 0.0195 - accuracy: 0.9951\n",
            "Epoch 00065: val_accuracy did not improve from 0.85269\n",
            "13/13 [==============================] - 3s 231ms/step - loss: 0.0195 - accuracy: 0.9951 - val_loss: 0.8510 - val_accuracy: 0.8357\n",
            "Epoch 66/100\n",
            "13/13 [==============================] - ETA: 0s - loss: 0.0178 - accuracy: 0.9970\n",
            "Epoch 00066: val_accuracy did not improve from 0.85269\n",
            "13/13 [==============================] - 3s 233ms/step - loss: 0.0178 - accuracy: 0.9970 - val_loss: 0.6657 - val_accuracy: 0.8499\n",
            "Epoch 67/100\n",
            "13/13 [==============================] - ETA: 0s - loss: 0.0103 - accuracy: 0.9976\n",
            "Epoch 00067: val_accuracy did not improve from 0.85269\n",
            "13/13 [==============================] - 3s 232ms/step - loss: 0.0103 - accuracy: 0.9976 - val_loss: 1.0126 - val_accuracy: 0.8088\n",
            "Epoch 68/100\n",
            "13/13 [==============================] - ETA: 0s - loss: 0.0106 - accuracy: 0.9976\n",
            "Epoch 00068: val_accuracy did not improve from 0.85269\n",
            "13/13 [==============================] - 3s 229ms/step - loss: 0.0106 - accuracy: 0.9976 - val_loss: 0.7142 - val_accuracy: 0.8484\n",
            "Epoch 69/100\n",
            "13/13 [==============================] - ETA: 0s - loss: 0.0106 - accuracy: 0.9976\n",
            "Epoch 00069: val_accuracy did not improve from 0.85269\n",
            "13/13 [==============================] - 3s 233ms/step - loss: 0.0106 - accuracy: 0.9976 - val_loss: 1.1934 - val_accuracy: 0.7748\n",
            "Epoch 70/100\n",
            "13/13 [==============================] - ETA: 0s - loss: 0.0264 - accuracy: 0.9945\n",
            "Epoch 00070: val_accuracy did not improve from 0.85269\n",
            "13/13 [==============================] - 3s 233ms/step - loss: 0.0264 - accuracy: 0.9945 - val_loss: 0.7737 - val_accuracy: 0.8399\n",
            "Epoch 71/100\n",
            "13/13 [==============================] - ETA: 0s - loss: 0.0150 - accuracy: 0.9982\n",
            "Epoch 00071: val_accuracy did not improve from 0.85269\n",
            "13/13 [==============================] - 3s 231ms/step - loss: 0.0150 - accuracy: 0.9982 - val_loss: 0.9277 - val_accuracy: 0.8314\n",
            "Epoch 72/100\n",
            "13/13 [==============================] - ETA: 0s - loss: 0.0170 - accuracy: 0.9945\n",
            "Epoch 00072: val_accuracy did not improve from 0.85269\n",
            "13/13 [==============================] - 3s 230ms/step - loss: 0.0170 - accuracy: 0.9945 - val_loss: 0.8241 - val_accuracy: 0.8300\n",
            "Epoch 73/100\n",
            "13/13 [==============================] - ETA: 0s - loss: 0.0120 - accuracy: 0.9976\n",
            "Epoch 00073: val_accuracy did not improve from 0.85269\n",
            "13/13 [==============================] - 3s 228ms/step - loss: 0.0120 - accuracy: 0.9976 - val_loss: 0.9344 - val_accuracy: 0.8045\n",
            "Epoch 74/100\n",
            "13/13 [==============================] - ETA: 0s - loss: 0.0294 - accuracy: 0.9939\n",
            "Epoch 00074: val_accuracy did not improve from 0.85269\n",
            "13/13 [==============================] - 3s 231ms/step - loss: 0.0294 - accuracy: 0.9939 - val_loss: 1.3689 - val_accuracy: 0.7734\n",
            "Epoch 75/100\n",
            "13/13 [==============================] - ETA: 0s - loss: 0.0146 - accuracy: 0.9970\n",
            "Epoch 00075: val_accuracy did not improve from 0.85269\n",
            "13/13 [==============================] - 3s 232ms/step - loss: 0.0146 - accuracy: 0.9970 - val_loss: 0.7639 - val_accuracy: 0.8300\n",
            "Epoch 76/100\n",
            "13/13 [==============================] - ETA: 0s - loss: 0.0149 - accuracy: 0.9957\n",
            "Epoch 00076: val_accuracy did not improve from 0.85269\n",
            "13/13 [==============================] - 3s 233ms/step - loss: 0.0149 - accuracy: 0.9957 - val_loss: 0.7874 - val_accuracy: 0.8116\n",
            "Epoch 77/100\n",
            "13/13 [==============================] - ETA: 0s - loss: 0.0171 - accuracy: 0.9939\n",
            "Epoch 00077: val_accuracy did not improve from 0.85269\n",
            "13/13 [==============================] - 3s 227ms/step - loss: 0.0171 - accuracy: 0.9939 - val_loss: 0.6841 - val_accuracy: 0.8385\n",
            "Epoch 78/100\n",
            "13/13 [==============================] - ETA: 0s - loss: 0.0109 - accuracy: 0.9982\n",
            "Epoch 00078: val_accuracy did not improve from 0.85269\n",
            "13/13 [==============================] - 3s 232ms/step - loss: 0.0109 - accuracy: 0.9982 - val_loss: 0.8303 - val_accuracy: 0.8414\n",
            "Epoch 79/100\n",
            "13/13 [==============================] - ETA: 0s - loss: 0.0098 - accuracy: 0.9982\n",
            "Epoch 00079: val_accuracy did not improve from 0.85269\n",
            "13/13 [==============================] - 3s 230ms/step - loss: 0.0098 - accuracy: 0.9982 - val_loss: 0.7160 - val_accuracy: 0.8399\n",
            "Epoch 80/100\n",
            "13/13 [==============================] - ETA: 0s - loss: 0.0146 - accuracy: 0.9970\n",
            "Epoch 00080: val_accuracy did not improve from 0.85269\n",
            "13/13 [==============================] - 3s 233ms/step - loss: 0.0146 - accuracy: 0.9970 - val_loss: 0.9695 - val_accuracy: 0.7833\n",
            "Epoch 81/100\n",
            "13/13 [==============================] - ETA: 0s - loss: 0.0146 - accuracy: 0.9964\n",
            "Epoch 00081: val_accuracy did not improve from 0.85269\n",
            "13/13 [==============================] - 3s 232ms/step - loss: 0.0146 - accuracy: 0.9964 - val_loss: 0.6417 - val_accuracy: 0.8470\n",
            "Epoch 82/100\n",
            "13/13 [==============================] - ETA: 0s - loss: 0.0106 - accuracy: 0.9988\n",
            "Epoch 00082: val_accuracy did not improve from 0.85269\n",
            "13/13 [==============================] - 3s 230ms/step - loss: 0.0106 - accuracy: 0.9988 - val_loss: 0.7296 - val_accuracy: 0.8357\n",
            "Epoch 83/100\n",
            "13/13 [==============================] - ETA: 0s - loss: 0.0117 - accuracy: 0.9957\n",
            "Epoch 00083: val_accuracy did not improve from 0.85269\n",
            "13/13 [==============================] - 3s 231ms/step - loss: 0.0117 - accuracy: 0.9957 - val_loss: 0.7468 - val_accuracy: 0.8456\n",
            "Epoch 84/100\n",
            "13/13 [==============================] - ETA: 0s - loss: 0.0171 - accuracy: 0.9964\n",
            "Epoch 00084: val_accuracy did not improve from 0.85269\n",
            "13/13 [==============================] - 3s 232ms/step - loss: 0.0171 - accuracy: 0.9964 - val_loss: 1.2802 - val_accuracy: 0.7790\n",
            "Epoch 85/100\n",
            "13/13 [==============================] - ETA: 0s - loss: 0.0108 - accuracy: 0.9976\n",
            "Epoch 00085: val_accuracy did not improve from 0.85269\n",
            "13/13 [==============================] - 3s 228ms/step - loss: 0.0108 - accuracy: 0.9976 - val_loss: 0.8620 - val_accuracy: 0.8215\n",
            "Epoch 86/100\n",
            "13/13 [==============================] - ETA: 0s - loss: 0.0171 - accuracy: 0.9964\n",
            "Epoch 00086: val_accuracy did not improve from 0.85269\n",
            "13/13 [==============================] - 3s 232ms/step - loss: 0.0171 - accuracy: 0.9964 - val_loss: 1.0317 - val_accuracy: 0.8272\n",
            "Epoch 87/100\n",
            "13/13 [==============================] - ETA: 0s - loss: 0.0107 - accuracy: 0.9982\n",
            "Epoch 00087: val_accuracy did not improve from 0.85269\n",
            "13/13 [==============================] - 3s 233ms/step - loss: 0.0107 - accuracy: 0.9982 - val_loss: 1.3110 - val_accuracy: 0.7975\n",
            "Epoch 88/100\n",
            "13/13 [==============================] - ETA: 0s - loss: 0.0129 - accuracy: 0.9964\n",
            "Epoch 00088: val_accuracy did not improve from 0.85269\n",
            "13/13 [==============================] - 3s 232ms/step - loss: 0.0129 - accuracy: 0.9964 - val_loss: 0.9160 - val_accuracy: 0.8314\n",
            "Epoch 89/100\n",
            "13/13 [==============================] - ETA: 0s - loss: 0.0080 - accuracy: 0.9976\n",
            "Epoch 00089: val_accuracy did not improve from 0.85269\n",
            "13/13 [==============================] - 3s 233ms/step - loss: 0.0080 - accuracy: 0.9976 - val_loss: 0.8808 - val_accuracy: 0.8399\n",
            "Epoch 90/100\n",
            "13/13 [==============================] - ETA: 0s - loss: 0.0080 - accuracy: 0.9976\n",
            "Epoch 00090: val_accuracy did not improve from 0.85269\n",
            "13/13 [==============================] - 3s 228ms/step - loss: 0.0080 - accuracy: 0.9976 - val_loss: 0.8637 - val_accuracy: 0.8456\n",
            "Epoch 91/100\n",
            "13/13 [==============================] - ETA: 0s - loss: 0.0059 - accuracy: 0.9982\n",
            "Epoch 00091: val_accuracy did not improve from 0.85269\n",
            "13/13 [==============================] - 3s 232ms/step - loss: 0.0059 - accuracy: 0.9982 - val_loss: 1.0557 - val_accuracy: 0.8130\n",
            "Epoch 92/100\n",
            "13/13 [==============================] - ETA: 0s - loss: 0.0104 - accuracy: 0.9964\n",
            "Epoch 00092: val_accuracy did not improve from 0.85269\n",
            "13/13 [==============================] - 3s 231ms/step - loss: 0.0104 - accuracy: 0.9964 - val_loss: 0.7281 - val_accuracy: 0.8357\n",
            "Epoch 93/100\n",
            "13/13 [==============================] - ETA: 0s - loss: 0.0099 - accuracy: 0.9982\n",
            "Epoch 00093: val_accuracy did not improve from 0.85269\n",
            "13/13 [==============================] - 3s 232ms/step - loss: 0.0099 - accuracy: 0.9982 - val_loss: 0.7868 - val_accuracy: 0.8272\n",
            "Epoch 94/100\n",
            "13/13 [==============================] - ETA: 0s - loss: 0.0100 - accuracy: 0.9982\n",
            "Epoch 00094: val_accuracy did not improve from 0.85269\n",
            "13/13 [==============================] - 3s 233ms/step - loss: 0.0100 - accuracy: 0.9982 - val_loss: 1.1065 - val_accuracy: 0.8003\n",
            "Epoch 95/100\n",
            "13/13 [==============================] - ETA: 0s - loss: 0.0087 - accuracy: 0.9970\n",
            "Epoch 00095: val_accuracy did not improve from 0.85269\n",
            "13/13 [==============================] - 3s 231ms/step - loss: 0.0087 - accuracy: 0.9970 - val_loss: 0.7238 - val_accuracy: 0.8314\n",
            "Epoch 96/100\n",
            "13/13 [==============================] - ETA: 0s - loss: 0.0102 - accuracy: 0.9970\n",
            "Epoch 00096: val_accuracy did not improve from 0.85269\n",
            "13/13 [==============================] - 3s 234ms/step - loss: 0.0102 - accuracy: 0.9970 - val_loss: 0.6954 - val_accuracy: 0.8428\n",
            "Epoch 97/100\n",
            "13/13 [==============================] - ETA: 0s - loss: 0.0173 - accuracy: 0.9951\n",
            "Epoch 00097: val_accuracy did not improve from 0.85269\n",
            "13/13 [==============================] - 3s 233ms/step - loss: 0.0173 - accuracy: 0.9951 - val_loss: 0.9618 - val_accuracy: 0.8102\n",
            "Epoch 98/100\n",
            "13/13 [==============================] - ETA: 0s - loss: 0.0155 - accuracy: 0.9964\n",
            "Epoch 00098: val_accuracy did not improve from 0.85269\n",
            "13/13 [==============================] - 3s 232ms/step - loss: 0.0155 - accuracy: 0.9964 - val_loss: 0.7823 - val_accuracy: 0.8300\n",
            "Epoch 99/100\n",
            "13/13 [==============================] - ETA: 0s - loss: 0.0087 - accuracy: 0.9970\n",
            "Epoch 00099: val_accuracy did not improve from 0.85269\n",
            "13/13 [==============================] - 3s 230ms/step - loss: 0.0087 - accuracy: 0.9970 - val_loss: 0.8167 - val_accuracy: 0.8329\n",
            "Epoch 100/100\n",
            "13/13 [==============================] - ETA: 0s - loss: 0.0162 - accuracy: 0.9957\n",
            "Epoch 00100: val_accuracy did not improve from 0.85269\n",
            "13/13 [==============================] - 3s 227ms/step - loss: 0.0162 - accuracy: 0.9957 - val_loss: 1.0429 - val_accuracy: 0.8159\n"
          ],
          "name": "stdout"
        }
      ]
    },
    {
      "cell_type": "code",
      "metadata": {
        "id": "Tx5IYOv6lKCw",
        "colab_type": "code",
        "colab": {}
      },
      "source": [
        "model.load_weights('best_model.hdf5')"
      ],
      "execution_count": 60,
      "outputs": []
    },
    {
      "cell_type": "code",
      "metadata": {
        "id": "TDddzq0DlNKe",
        "colab_type": "code",
        "colab": {
          "base_uri": "https://localhost:8080/",
          "height": 35
        },
        "outputId": "8ef9d9f2-8ccc-4256-bdca-2a158a810695"
      },
      "source": [
        "# accuracy on training set\n",
        "print('Accuracy on training set:', accuracy_score(y_train, model.predict_classes(X_train)), '%')"
      ],
      "execution_count": 61,
      "outputs": [
        {
          "output_type": "stream",
          "text": [
            "Accuracy on training set: 0.9975698663426489 %\n"
          ],
          "name": "stdout"
        }
      ]
    },
    {
      "cell_type": "code",
      "metadata": {
        "id": "UEmQKYvglV_u",
        "colab_type": "code",
        "colab": {
          "base_uri": "https://localhost:8080/",
          "height": 35
        },
        "outputId": "e0f9cc57-0e73-4422-8b83-8df007f0b68a"
      },
      "source": [
        "# accuracy on validation set\n",
        "print('Accuracy on validation set:', accuracy_score(y_valid, model.predict_classes(X_valid)), '%')"
      ],
      "execution_count": 62,
      "outputs": [
        {
          "output_type": "stream",
          "text": [
            "Accuracy on validation set: 0.8526912181303116 %\n"
          ],
          "name": "stdout"
        }
      ]
    }
  ]
}